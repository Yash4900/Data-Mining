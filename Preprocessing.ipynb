{
 "cells": [
  {
   "cell_type": "markdown",
   "metadata": {},
   "source": [
    "Name: Yash Satra\n",
    "Roll No: 1811109\n",
    "Batch: B1"
   ]
  },
  {
   "cell_type": "markdown",
   "metadata": {},
   "source": [
    "### Importing packages"
   ]
  },
  {
   "cell_type": "code",
   "execution_count": 1,
   "metadata": {},
   "outputs": [],
   "source": [
    "import sklearn as sk\n",
    "import pandas as pd\n",
    "import numpy as np"
   ]
  },
  {
   "cell_type": "markdown",
   "metadata": {},
   "source": [
    "### Loading dataset"
   ]
  },
  {
   "cell_type": "code",
   "execution_count": 2,
   "metadata": {},
   "outputs": [],
   "source": [
    "df = pd.read_csv('./datasets/stackoverflow/survey_results_public.csv', usecols=['Age','YearsCode','YearsCodePro','WorkLoc','ConvertedComp','Hobbyist'])"
   ]
  },
  {
   "cell_type": "markdown",
   "metadata": {},
   "source": [
    "### Dataframe description\n",
    "\n",
    "The actual stackoverflow dataset comprises of 85 columns but for simplicity 6 columns are selected\n",
    "1. Age - Age of respondent\n",
    "2. YearsCode - Years the respondent has been coding\n",
    "3. YearsCode - Years the respondent has been coding professionally\n",
    "4. ConvertedComp - Salary of respondent in USD\n",
    "5. WorkLoc - Working location\n",
    "6. Hobbyist - Whether coding is respondent's hobby or not"
   ]
  },
  {
   "cell_type": "code",
   "execution_count": 3,
   "metadata": {},
   "outputs": [
    {
     "data": {
      "text/html": [
       "<div>\n",
       "<style scoped>\n",
       "    .dataframe tbody tr th:only-of-type {\n",
       "        vertical-align: middle;\n",
       "    }\n",
       "\n",
       "    .dataframe tbody tr th {\n",
       "        vertical-align: top;\n",
       "    }\n",
       "\n",
       "    .dataframe thead th {\n",
       "        text-align: right;\n",
       "    }\n",
       "</style>\n",
       "<table border=\"1\" class=\"dataframe\">\n",
       "  <thead>\n",
       "    <tr style=\"text-align: right;\">\n",
       "      <th></th>\n",
       "      <th>Hobbyist</th>\n",
       "      <th>YearsCode</th>\n",
       "      <th>YearsCodePro</th>\n",
       "      <th>ConvertedComp</th>\n",
       "      <th>WorkLoc</th>\n",
       "      <th>Age</th>\n",
       "    </tr>\n",
       "  </thead>\n",
       "  <tbody>\n",
       "    <tr>\n",
       "      <th>0</th>\n",
       "      <td>Yes</td>\n",
       "      <td>4</td>\n",
       "      <td>NaN</td>\n",
       "      <td>NaN</td>\n",
       "      <td>NaN</td>\n",
       "      <td>14.0</td>\n",
       "    </tr>\n",
       "    <tr>\n",
       "      <th>1</th>\n",
       "      <td>No</td>\n",
       "      <td>NaN</td>\n",
       "      <td>NaN</td>\n",
       "      <td>NaN</td>\n",
       "      <td>NaN</td>\n",
       "      <td>19.0</td>\n",
       "    </tr>\n",
       "    <tr>\n",
       "      <th>2</th>\n",
       "      <td>Yes</td>\n",
       "      <td>3</td>\n",
       "      <td>1</td>\n",
       "      <td>8820.0</td>\n",
       "      <td>Home</td>\n",
       "      <td>28.0</td>\n",
       "    </tr>\n",
       "    <tr>\n",
       "      <th>3</th>\n",
       "      <td>No</td>\n",
       "      <td>3</td>\n",
       "      <td>Less than 1 year</td>\n",
       "      <td>61000.0</td>\n",
       "      <td>Home</td>\n",
       "      <td>22.0</td>\n",
       "    </tr>\n",
       "    <tr>\n",
       "      <th>4</th>\n",
       "      <td>Yes</td>\n",
       "      <td>16</td>\n",
       "      <td>9</td>\n",
       "      <td>NaN</td>\n",
       "      <td>Office</td>\n",
       "      <td>30.0</td>\n",
       "    </tr>\n",
       "  </tbody>\n",
       "</table>\n",
       "</div>"
      ],
      "text/plain": [
       "  Hobbyist YearsCode      YearsCodePro  ConvertedComp WorkLoc   Age\n",
       "0      Yes         4               NaN            NaN     NaN  14.0\n",
       "1       No       NaN               NaN            NaN     NaN  19.0\n",
       "2      Yes         3                 1         8820.0    Home  28.0\n",
       "3       No         3  Less than 1 year        61000.0    Home  22.0\n",
       "4      Yes        16                 9            NaN  Office  30.0"
      ]
     },
     "execution_count": 3,
     "metadata": {},
     "output_type": "execute_result"
    }
   ],
   "source": [
    "df.head()"
   ]
  },
  {
   "cell_type": "code",
   "execution_count": 4,
   "metadata": {},
   "outputs": [
    {
     "name": "stdout",
     "output_type": "stream",
     "text": [
      "Hobbyist\n",
      "['Yes' 'No']\n",
      "YearsCode\n",
      "['4' nan '3' '16' '13' '6' '8' '12' '2' '5' '17' '10' '14' '35' '7'\n",
      " 'Less than 1 year' '30' '9' '26' '40' '19' '15' '20' '28' '25' '1' '22'\n",
      " '11' '33' '50' '41' '18' '34' '24' '23' '42' '27' '21' '36' '32' '39'\n",
      " '38' '31' '37' 'More than 50 years' '29' '44' '45' '48' '46' '43' '47'\n",
      " '49']\n",
      "YearsCodePro\n",
      "[nan '1' 'Less than 1 year' '9' '3' '4' '10' '8' '2' '13' '18' '5' '14'\n",
      " '22' '23' '19' '35' '20' '25' '7' '15' '27' '6' '48' '12' '31' '11' '17'\n",
      " '16' '21' '29' '30' '26' '33' '28' '37' '40' '34' '24' '39' '38' '36'\n",
      " '32' '41' '45' '43' 'More than 50 years' '44' '42' '46' '49' '50' '47']\n",
      "ConvertedComp\n",
      "[    nan   8820.  61000. ...  38766.  13272. 588012.]\n",
      "WorkLoc\n",
      "[nan 'Home' 'Office' 'Other place, such as a coworking space or cafe']\n",
      "Age\n",
      "[14.  19.  28.  22.  30.  42.  24.  23.   nan 21.  31.  20.  26.  29.\n",
      " 38.  47.  34.  32.  25.  17.  35.  27.  44.  43.  62.  37.  45.  18.\n",
      " 33.  36.  16.  39.  64.  41.  54.  49.  40.  56.  12.  58.  46.  59.\n",
      " 51.  48.  57.  52.  50.  23.9 55.  15.  67.  13.   1.  53.  69.  65.\n",
      " 17.5 63.  61.  68.  73.  70.  60.  16.5 46.5 11.  71.   3.  97.  29.5\n",
      " 77.  74.  26.5 26.3 24.5 78.  72.  66.  76.  10.  75.  99.  83.  79.\n",
      " 36.8 14.1 13.5 19.5 98.  43.5 22.5 31.5 21.5 28.5 33.6  2.  38.5 30.8\n",
      " 24.8 90.  61.3 81.   4.  17.3 19.9 80.  85.  88.  23.5 16.9 20.9 91.\n",
      " 98.9 57.9  9.  94.  95.  37.5 14.5  5.  82.  84.  37.3 33.5 53.8 31.4\n",
      " 87. ]\n"
     ]
    }
   ],
   "source": [
    "for column in df.columns:\n",
    "    print(column)\n",
    "    print(df[column].unique())"
   ]
  },
  {
   "cell_type": "markdown",
   "metadata": {},
   "source": [
    "### Replacing 'Less than 1 year' by 0 and 'More than 50 years' by 51 in YearsCode and YearsCodePro columns"
   ]
  },
  {
   "cell_type": "code",
   "execution_count": 5,
   "metadata": {},
   "outputs": [],
   "source": [
    "df['YearsCode'].replace('Less than 1 year', '0', inplace=True)\n",
    "df['YearsCode'].replace('More than 50 years', '51', inplace=True)"
   ]
  },
  {
   "cell_type": "code",
   "execution_count": 6,
   "metadata": {},
   "outputs": [],
   "source": [
    "df['YearsCodePro'].replace('Less than 1 year', '0', inplace=True)\n",
    "df['YearsCodePro'].replace('More than 50 years', '51', inplace=True)"
   ]
  },
  {
   "cell_type": "markdown",
   "metadata": {},
   "source": [
    "### Replacing nan in the WorkLoc column by 'doesn't work' assuming that the respondent is not working currently hence he/she has no work location"
   ]
  },
  {
   "cell_type": "code",
   "execution_count": 7,
   "metadata": {},
   "outputs": [],
   "source": [
    "df['WorkLoc'].replace(np.nan,\"Doesn't work\", inplace=True)"
   ]
  },
  {
   "cell_type": "markdown",
   "metadata": {},
   "source": [
    "### Converting to np array"
   ]
  },
  {
   "cell_type": "code",
   "execution_count": 8,
   "metadata": {},
   "outputs": [],
   "source": [
    "x = df.loc[:,['Age','YearsCode','YearsCodePro','WorkLoc','Hobbyist']].values"
   ]
  },
  {
   "cell_type": "code",
   "execution_count": 9,
   "metadata": {},
   "outputs": [],
   "source": [
    "y = df['ConvertedComp'].values"
   ]
  },
  {
   "cell_type": "code",
   "execution_count": 10,
   "metadata": {},
   "outputs": [
    {
     "name": "stdout",
     "output_type": "stream",
     "text": [
      "[[14.0 '4' nan \"Doesn't work\" 'Yes']\n",
      " [19.0 nan nan \"Doesn't work\" 'No']\n",
      " [28.0 '3' '1' 'Home' 'Yes']\n",
      " ...\n",
      " [nan nan nan \"Doesn't work\" 'No']\n",
      " [nan nan nan \"Doesn't work\" 'No']\n",
      " [18.0 '8' '3' \"Doesn't work\" 'Yes']]\n",
      "[  nan   nan 8820. ...   nan   nan   nan]\n"
     ]
    }
   ],
   "source": [
    "print(x)\n",
    "print(y)"
   ]
  },
  {
   "cell_type": "markdown",
   "metadata": {},
   "source": [
    "### Taking care of missing data"
   ]
  },
  {
   "cell_type": "code",
   "execution_count": 11,
   "metadata": {},
   "outputs": [],
   "source": [
    "from sklearn.impute import SimpleImputer\n",
    "imputer = SimpleImputer(missing_values=np.nan, strategy='mean')"
   ]
  },
  {
   "cell_type": "code",
   "execution_count": 12,
   "metadata": {},
   "outputs": [
    {
     "name": "stdout",
     "output_type": "stream",
     "text": [
      "[[14.0 4.0 8.15634123044221 \"Doesn't work\" 'Yes']\n",
      " [19.0 11.662114216834588 8.15634123044221 \"Doesn't work\" 'No']\n",
      " [28.0 3.0 1.0 'Home' 'Yes']\n",
      " ...\n",
      " [30.336698649160457 11.662114216834588 8.15634123044221 \"Doesn't work\"\n",
      "  'No']\n",
      " [30.336698649160457 11.662114216834588 8.15634123044221 \"Doesn't work\"\n",
      "  'No']\n",
      " [18.0 8.0 3.0 \"Doesn't work\" 'Yes']]\n"
     ]
    }
   ],
   "source": [
    "imputer.fit(x[:,0:3])\n",
    "x[:,0:3]=imputer.transform(x[:,0:3])\n",
    "print(x)"
   ]
  },
  {
   "cell_type": "markdown",
   "metadata": {},
   "source": [
    "### In ConvertedComp replacing nan by 0 because those respondents have no salary"
   ]
  },
  {
   "cell_type": "code",
   "execution_count": 13,
   "metadata": {},
   "outputs": [],
   "source": [
    "imputer = SimpleImputer(missing_values=np.nan, strategy='constant', fill_value=0)"
   ]
  },
  {
   "cell_type": "code",
   "execution_count": 14,
   "metadata": {},
   "outputs": [
    {
     "name": "stdout",
     "output_type": "stream",
     "text": [
      "[[   0.]\n",
      " [   0.]\n",
      " [8820.]\n",
      " ...\n",
      " [   0.]\n",
      " [   0.]\n",
      " [   0.]]\n"
     ]
    }
   ],
   "source": [
    "y = y.reshape(-1,1)\n",
    "imputer.fit(y)\n",
    "y=imputer.transform(y)\n",
    "print(y)"
   ]
  },
  {
   "cell_type": "markdown",
   "metadata": {},
   "source": [
    "### Encoding the independent variables WorkLoc and Hobbyist"
   ]
  },
  {
   "cell_type": "code",
   "execution_count": 15,
   "metadata": {},
   "outputs": [
    {
     "name": "stdout",
     "output_type": "stream",
     "text": [
      "[[1.0 0.0 0.0 ... 14.0 4.0 8.15634123044221]\n",
      " [1.0 0.0 0.0 ... 19.0 11.662114216834588 8.15634123044221]\n",
      " [0.0 1.0 0.0 ... 28.0 3.0 1.0]\n",
      " ...\n",
      " [1.0 0.0 0.0 ... 30.336698649160457 11.662114216834588 8.15634123044221]\n",
      " [1.0 0.0 0.0 ... 30.336698649160457 11.662114216834588 8.15634123044221]\n",
      " [1.0 0.0 0.0 ... 18.0 8.0 3.0]]\n"
     ]
    }
   ],
   "source": [
    "from sklearn.compose import ColumnTransformer\n",
    "from sklearn.preprocessing import OneHotEncoder\n",
    "ct = ColumnTransformer(transformers=[('encoder', OneHotEncoder(), [3,4])], remainder='passthrough')\n",
    "x = np.array(ct.fit_transform(x))\n",
    "print(x)"
   ]
  },
  {
   "cell_type": "markdown",
   "metadata": {},
   "source": [
    "### Normalization of Age, YearsCode and YearsCodePro"
   ]
  },
  {
   "cell_type": "code",
   "execution_count": 16,
   "metadata": {},
   "outputs": [
    {
     "data": {
      "text/plain": [
       "(88883, 9)"
      ]
     },
     "execution_count": 16,
     "metadata": {},
     "output_type": "execute_result"
    }
   ],
   "source": [
    "x.shape"
   ]
  },
  {
   "cell_type": "code",
   "execution_count": 17,
   "metadata": {},
   "outputs": [
    {
     "name": "stdout",
     "output_type": "stream",
     "text": [
      "[[1.0 0.0 0.0 ... -1.8854710558560477 -0.8416266814142354\n",
      "  -3.097702542750127e-13]\n",
      " [1.0 0.0 0.0 ... -1.3084049373128603 5.4633511775484314e-15\n",
      "  -3.097702542750127e-13]\n",
      " [0.0 1.0 0.0 ... -0.2696859239351231 -0.9514692989472768\n",
      "  -1.0220799676198955]\n",
      " ...\n",
      " [1.0 0.0 0.0 ... 1.0373762506178708e-13 5.4633511775484314e-15\n",
      "  -3.097702542750127e-13]\n",
      " [1.0 0.0 0.0 ... 1.0373762506178708e-13 5.4633511775484314e-15\n",
      "  -3.097702542750127e-13]\n",
      " [1.0 0.0 0.0 ... -1.423818161021498 -0.40225621128206973\n",
      "  -0.7364368059238653]]\n"
     ]
    }
   ],
   "source": [
    "from sklearn.preprocessing import StandardScaler\n",
    "sc=StandardScaler()\n",
    "x[:, 6:]= sc.fit_transform(x[: , 6: ])\n",
    "print(x)"
   ]
  },
  {
   "cell_type": "code",
   "execution_count": null,
   "metadata": {},
   "outputs": [],
   "source": []
  }
 ],
 "metadata": {
  "kernelspec": {
   "display_name": "Python 3",
   "language": "python",
   "name": "python3"
  },
  "language_info": {
   "codemirror_mode": {
    "name": "ipython",
    "version": 3
   },
   "file_extension": ".py",
   "mimetype": "text/x-python",
   "name": "python",
   "nbconvert_exporter": "python",
   "pygments_lexer": "ipython3",
   "version": "3.7.9"
  }
 },
 "nbformat": 4,
 "nbformat_minor": 4
}
