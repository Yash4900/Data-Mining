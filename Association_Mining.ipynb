{
 "cells": [
  {
   "cell_type": "markdown",
   "metadata": {},
   "source": [
    "### Importing libraries"
   ]
  },
  {
   "cell_type": "code",
   "execution_count": 3,
   "metadata": {},
   "outputs": [],
   "source": [
    "import numpy as np\n",
    "import pandas as pd\n",
    "import apyori as ap"
   ]
  },
  {
   "cell_type": "markdown",
   "metadata": {},
   "source": [
    "### Importing dataset"
   ]
  },
  {
   "cell_type": "code",
   "execution_count": 4,
   "metadata": {
    "scrolled": true
   },
   "outputs": [
    {
     "data": {
      "text/html": [
       "<div>\n",
       "<style scoped>\n",
       "    .dataframe tbody tr th:only-of-type {\n",
       "        vertical-align: middle;\n",
       "    }\n",
       "\n",
       "    .dataframe tbody tr th {\n",
       "        vertical-align: top;\n",
       "    }\n",
       "\n",
       "    .dataframe thead th {\n",
       "        text-align: right;\n",
       "    }\n",
       "</style>\n",
       "<table border=\"1\" class=\"dataframe\">\n",
       "  <thead>\n",
       "    <tr style=\"text-align: right;\">\n",
       "      <th></th>\n",
       "      <th>0</th>\n",
       "      <th>1</th>\n",
       "      <th>2</th>\n",
       "      <th>3</th>\n",
       "      <th>4</th>\n",
       "      <th>5</th>\n",
       "      <th>6</th>\n",
       "      <th>7</th>\n",
       "      <th>8</th>\n",
       "      <th>9</th>\n",
       "      <th>...</th>\n",
       "      <th>23</th>\n",
       "      <th>24</th>\n",
       "      <th>25</th>\n",
       "      <th>26</th>\n",
       "      <th>27</th>\n",
       "      <th>28</th>\n",
       "      <th>29</th>\n",
       "      <th>30</th>\n",
       "      <th>31</th>\n",
       "      <th>32</th>\n",
       "    </tr>\n",
       "  </thead>\n",
       "  <tbody>\n",
       "    <tr>\n",
       "      <th>0</th>\n",
       "      <td>Item(s)</td>\n",
       "      <td>Item 1</td>\n",
       "      <td>Item 2</td>\n",
       "      <td>Item 3</td>\n",
       "      <td>Item 4</td>\n",
       "      <td>Item 5</td>\n",
       "      <td>Item 6</td>\n",
       "      <td>Item 7</td>\n",
       "      <td>Item 8</td>\n",
       "      <td>Item 9</td>\n",
       "      <td>...</td>\n",
       "      <td>Item 23</td>\n",
       "      <td>Item 24</td>\n",
       "      <td>Item 25</td>\n",
       "      <td>Item 26</td>\n",
       "      <td>Item 27</td>\n",
       "      <td>Item 28</td>\n",
       "      <td>Item 29</td>\n",
       "      <td>Item 30</td>\n",
       "      <td>Item 31</td>\n",
       "      <td>Item 32</td>\n",
       "    </tr>\n",
       "    <tr>\n",
       "      <th>1</th>\n",
       "      <td>4</td>\n",
       "      <td>citrus fruit</td>\n",
       "      <td>semi-finished bread</td>\n",
       "      <td>margarine</td>\n",
       "      <td>ready soups</td>\n",
       "      <td>NaN</td>\n",
       "      <td>NaN</td>\n",
       "      <td>NaN</td>\n",
       "      <td>NaN</td>\n",
       "      <td>NaN</td>\n",
       "      <td>...</td>\n",
       "      <td>NaN</td>\n",
       "      <td>NaN</td>\n",
       "      <td>NaN</td>\n",
       "      <td>NaN</td>\n",
       "      <td>NaN</td>\n",
       "      <td>NaN</td>\n",
       "      <td>NaN</td>\n",
       "      <td>NaN</td>\n",
       "      <td>NaN</td>\n",
       "      <td>NaN</td>\n",
       "    </tr>\n",
       "    <tr>\n",
       "      <th>2</th>\n",
       "      <td>3</td>\n",
       "      <td>tropical fruit</td>\n",
       "      <td>yogurt</td>\n",
       "      <td>coffee</td>\n",
       "      <td>NaN</td>\n",
       "      <td>NaN</td>\n",
       "      <td>NaN</td>\n",
       "      <td>NaN</td>\n",
       "      <td>NaN</td>\n",
       "      <td>NaN</td>\n",
       "      <td>...</td>\n",
       "      <td>NaN</td>\n",
       "      <td>NaN</td>\n",
       "      <td>NaN</td>\n",
       "      <td>NaN</td>\n",
       "      <td>NaN</td>\n",
       "      <td>NaN</td>\n",
       "      <td>NaN</td>\n",
       "      <td>NaN</td>\n",
       "      <td>NaN</td>\n",
       "      <td>NaN</td>\n",
       "    </tr>\n",
       "    <tr>\n",
       "      <th>3</th>\n",
       "      <td>1</td>\n",
       "      <td>whole milk</td>\n",
       "      <td>NaN</td>\n",
       "      <td>NaN</td>\n",
       "      <td>NaN</td>\n",
       "      <td>NaN</td>\n",
       "      <td>NaN</td>\n",
       "      <td>NaN</td>\n",
       "      <td>NaN</td>\n",
       "      <td>NaN</td>\n",
       "      <td>...</td>\n",
       "      <td>NaN</td>\n",
       "      <td>NaN</td>\n",
       "      <td>NaN</td>\n",
       "      <td>NaN</td>\n",
       "      <td>NaN</td>\n",
       "      <td>NaN</td>\n",
       "      <td>NaN</td>\n",
       "      <td>NaN</td>\n",
       "      <td>NaN</td>\n",
       "      <td>NaN</td>\n",
       "    </tr>\n",
       "    <tr>\n",
       "      <th>4</th>\n",
       "      <td>4</td>\n",
       "      <td>pip fruit</td>\n",
       "      <td>yogurt</td>\n",
       "      <td>cream cheese</td>\n",
       "      <td>meat spreads</td>\n",
       "      <td>NaN</td>\n",
       "      <td>NaN</td>\n",
       "      <td>NaN</td>\n",
       "      <td>NaN</td>\n",
       "      <td>NaN</td>\n",
       "      <td>...</td>\n",
       "      <td>NaN</td>\n",
       "      <td>NaN</td>\n",
       "      <td>NaN</td>\n",
       "      <td>NaN</td>\n",
       "      <td>NaN</td>\n",
       "      <td>NaN</td>\n",
       "      <td>NaN</td>\n",
       "      <td>NaN</td>\n",
       "      <td>NaN</td>\n",
       "      <td>NaN</td>\n",
       "    </tr>\n",
       "  </tbody>\n",
       "</table>\n",
       "<p>5 rows × 33 columns</p>\n",
       "</div>"
      ],
      "text/plain": [
       "        0               1                    2             3             4   \\\n",
       "0  Item(s)          Item 1               Item 2        Item 3        Item 4   \n",
       "1        4    citrus fruit  semi-finished bread     margarine   ready soups   \n",
       "2        3  tropical fruit               yogurt        coffee           NaN   \n",
       "3        1      whole milk                  NaN           NaN           NaN   \n",
       "4        4       pip fruit               yogurt  cream cheese  meat spreads   \n",
       "\n",
       "       5       6       7       8       9   ...       23       24       25  \\\n",
       "0  Item 5  Item 6  Item 7  Item 8  Item 9  ...  Item 23  Item 24  Item 25   \n",
       "1     NaN     NaN     NaN     NaN     NaN  ...      NaN      NaN      NaN   \n",
       "2     NaN     NaN     NaN     NaN     NaN  ...      NaN      NaN      NaN   \n",
       "3     NaN     NaN     NaN     NaN     NaN  ...      NaN      NaN      NaN   \n",
       "4     NaN     NaN     NaN     NaN     NaN  ...      NaN      NaN      NaN   \n",
       "\n",
       "        26       27       28       29       30       31       32  \n",
       "0  Item 26  Item 27  Item 28  Item 29  Item 30  Item 31  Item 32  \n",
       "1      NaN      NaN      NaN      NaN      NaN      NaN      NaN  \n",
       "2      NaN      NaN      NaN      NaN      NaN      NaN      NaN  \n",
       "3      NaN      NaN      NaN      NaN      NaN      NaN      NaN  \n",
       "4      NaN      NaN      NaN      NaN      NaN      NaN      NaN  \n",
       "\n",
       "[5 rows x 33 columns]"
      ]
     },
     "execution_count": 4,
     "metadata": {},
     "output_type": "execute_result"
    }
   ],
   "source": [
    "df = pd.read_csv('./datasets/groceries - groceries.csv', header = None)\n",
    "df.head()"
   ]
  },
  {
   "cell_type": "markdown",
   "metadata": {},
   "source": [
    "### Dataset shape"
   ]
  },
  {
   "cell_type": "code",
   "execution_count": 5,
   "metadata": {},
   "outputs": [
    {
     "data": {
      "text/plain": [
       "(9836, 33)"
      ]
     },
     "execution_count": 5,
     "metadata": {},
     "output_type": "execute_result"
    }
   ],
   "source": [
    "df.shape"
   ]
  },
  {
   "cell_type": "markdown",
   "metadata": {},
   "source": [
    "### Preprocessing"
   ]
  },
  {
   "cell_type": "code",
   "execution_count": 6,
   "metadata": {},
   "outputs": [],
   "source": [
    "transactions = []\n",
    "for row in range(1,9836):\n",
    "    transactions.append([str(df.values[row,col]) for col in range(1,33)])"
   ]
  },
  {
   "cell_type": "code",
   "execution_count": 30,
   "metadata": {},
   "outputs": [
    {
     "name": "stdout",
     "output_type": "stream",
     "text": [
      "['citrus fruit', 'semi-finished bread', 'margarine', 'ready soups', 'nan', 'nan', 'nan', 'nan', 'nan', 'nan', 'nan', 'nan', 'nan', 'nan', 'nan', 'nan', 'nan', 'nan', 'nan', 'nan', 'nan', 'nan', 'nan', 'nan', 'nan', 'nan', 'nan', 'nan', 'nan', 'nan', 'nan', 'nan']\n"
     ]
    }
   ],
   "source": [
    "print(transactions[0])"
   ]
  },
  {
   "cell_type": "markdown",
   "metadata": {},
   "source": [
    "### Applying apriori algorithm"
   ]
  },
  {
   "cell_type": "code",
   "execution_count": 7,
   "metadata": {},
   "outputs": [],
   "source": [
    "rules = ap.apriori(transactions = transactions, min_support = 0.01, min_confidence = 0.4, min_lift = 2, min_length = 2, max_length = 2)"
   ]
  },
  {
   "cell_type": "code",
   "execution_count": 8,
   "metadata": {},
   "outputs": [
    {
     "data": {
      "text/plain": [
       "[RelationRecord(items=frozenset({'other vegetables', 'chicken'}), support=0.017895271987798677, ordered_statistics=[OrderedStatistic(items_base=frozenset({'chicken'}), items_add=frozenset({'other vegetables'}), confidence=0.4170616113744075, lift=2.1554392789633723)]),\n",
       " RelationRecord(items=frozenset({'other vegetables', 'hamburger meat'}), support=0.013828164717844434, ordered_statistics=[OrderedStatistic(items_base=frozenset({'hamburger meat'}), items_add=frozenset({'other vegetables'}), confidence=0.41590214067278286, lift=2.149446954028807)]),\n",
       " RelationRecord(items=frozenset({'other vegetables', 'onions'}), support=0.014234875444839857, ordered_statistics=[OrderedStatistic(items_base=frozenset({'onions'}), items_add=frozenset({'other vegetables'}), confidence=0.45901639344262296, lift=2.372268118501417)]),\n",
       " RelationRecord(items=frozenset({'other vegetables', 'root vegetables'}), support=0.047381799694966954, ordered_statistics=[OrderedStatistic(items_base=frozenset({'root vegetables'}), items_add=frozenset({'other vegetables'}), confidence=0.43470149253731344, lift=2.2466049285887952)]),\n",
       " RelationRecord(items=frozenset({'other vegetables', 'whipped/sour cream'}), support=0.02887646161667514, ordered_statistics=[OrderedStatistic(items_base=frozenset({'whipped/sour cream'}), items_add=frozenset({'other vegetables'}), confidence=0.40283687943262414, lift=2.081923651718265)])]"
      ]
     },
     "execution_count": 8,
     "metadata": {},
     "output_type": "execute_result"
    }
   ],
   "source": [
    "results = list(rules)\n",
    "results"
   ]
  },
  {
   "cell_type": "code",
   "execution_count": 9,
   "metadata": {},
   "outputs": [],
   "source": [
    "# function for visualizing the results in a better way\n",
    "\n",
    "def inspect(results):\n",
    "    lhs         = [','.join(list(result[2][0][0])) for result in results]\n",
    "    rhs         = [list(result[2][0][1]) for result in results]\n",
    "    supports    = [result[1] for result in results]\n",
    "    confidences = [result[2][0][2] for result in results]\n",
    "    lifts       = [result[2][0][3] for result in results]\n",
    "    return list(zip(lhs, rhs, supports, confidences, lifts))\n"
   ]
  },
  {
   "cell_type": "code",
   "execution_count": 10,
   "metadata": {},
   "outputs": [
    {
     "data": {
      "text/html": [
       "<div>\n",
       "<style scoped>\n",
       "    .dataframe tbody tr th:only-of-type {\n",
       "        vertical-align: middle;\n",
       "    }\n",
       "\n",
       "    .dataframe tbody tr th {\n",
       "        vertical-align: top;\n",
       "    }\n",
       "\n",
       "    .dataframe thead th {\n",
       "        text-align: right;\n",
       "    }\n",
       "</style>\n",
       "<table border=\"1\" class=\"dataframe\">\n",
       "  <thead>\n",
       "    <tr style=\"text-align: right;\">\n",
       "      <th></th>\n",
       "      <th>Left Hand Side</th>\n",
       "      <th>Right Hand Side</th>\n",
       "      <th>Support</th>\n",
       "      <th>Confidence</th>\n",
       "      <th>Lift</th>\n",
       "    </tr>\n",
       "  </thead>\n",
       "  <tbody>\n",
       "    <tr>\n",
       "      <th>0</th>\n",
       "      <td>chicken</td>\n",
       "      <td>[other vegetables]</td>\n",
       "      <td>0.017895</td>\n",
       "      <td>0.417062</td>\n",
       "      <td>2.155439</td>\n",
       "    </tr>\n",
       "    <tr>\n",
       "      <th>1</th>\n",
       "      <td>hamburger meat</td>\n",
       "      <td>[other vegetables]</td>\n",
       "      <td>0.013828</td>\n",
       "      <td>0.415902</td>\n",
       "      <td>2.149447</td>\n",
       "    </tr>\n",
       "    <tr>\n",
       "      <th>2</th>\n",
       "      <td>onions</td>\n",
       "      <td>[other vegetables]</td>\n",
       "      <td>0.014235</td>\n",
       "      <td>0.459016</td>\n",
       "      <td>2.372268</td>\n",
       "    </tr>\n",
       "    <tr>\n",
       "      <th>3</th>\n",
       "      <td>root vegetables</td>\n",
       "      <td>[other vegetables]</td>\n",
       "      <td>0.047382</td>\n",
       "      <td>0.434701</td>\n",
       "      <td>2.246605</td>\n",
       "    </tr>\n",
       "    <tr>\n",
       "      <th>4</th>\n",
       "      <td>whipped/sour cream</td>\n",
       "      <td>[other vegetables]</td>\n",
       "      <td>0.028876</td>\n",
       "      <td>0.402837</td>\n",
       "      <td>2.081924</td>\n",
       "    </tr>\n",
       "  </tbody>\n",
       "</table>\n",
       "</div>"
      ],
      "text/plain": [
       "       Left Hand Side     Right Hand Side   Support  Confidence      Lift\n",
       "0             chicken  [other vegetables]  0.017895    0.417062  2.155439\n",
       "1      hamburger meat  [other vegetables]  0.013828    0.415902  2.149447\n",
       "2              onions  [other vegetables]  0.014235    0.459016  2.372268\n",
       "3     root vegetables  [other vegetables]  0.047382    0.434701  2.246605\n",
       "4  whipped/sour cream  [other vegetables]  0.028876    0.402837  2.081924"
      ]
     },
     "execution_count": 10,
     "metadata": {},
     "output_type": "execute_result"
    }
   ],
   "source": [
    "resultsinDataFrame = pd.DataFrame(inspect(results), columns = ['Left Hand Side', 'Right Hand Side', 'Support', 'Confidence', 'Lift'])\n",
    "resultsinDataFrame"
   ]
  },
  {
   "cell_type": "code",
   "execution_count": 11,
   "metadata": {},
   "outputs": [],
   "source": [
    "rules = ap.apriori(transactions = transactions, min_support = 0.015, min_confidence = 0.4, min_lift = 2, min_length = 3, max_length = 3)"
   ]
  },
  {
   "cell_type": "code",
   "execution_count": 12,
   "metadata": {},
   "outputs": [
    {
     "data": {
      "text/plain": [
       "[RelationRecord(items=frozenset({'other vegetables', 'chicken'}), support=0.017895271987798677, ordered_statistics=[OrderedStatistic(items_base=frozenset({'chicken'}), items_add=frozenset({'other vegetables'}), confidence=0.4170616113744075, lift=2.1554392789633723)]),\n",
       " RelationRecord(items=frozenset({'other vegetables', 'root vegetables'}), support=0.047381799694966954, ordered_statistics=[OrderedStatistic(items_base=frozenset({'root vegetables'}), items_add=frozenset({'other vegetables'}), confidence=0.43470149253731344, lift=2.2466049285887952)]),\n",
       " RelationRecord(items=frozenset({'other vegetables', 'whipped/sour cream'}), support=0.02887646161667514, ordered_statistics=[OrderedStatistic(items_base=frozenset({'whipped/sour cream'}), items_add=frozenset({'other vegetables'}), confidence=0.40283687943262414, lift=2.081923651718265)]),\n",
       " RelationRecord(items=frozenset({'other vegetables', 'nan', 'chicken'}), support=0.017793594306049824, ordered_statistics=[OrderedStatistic(items_base=frozenset({'chicken'}), items_add=frozenset({'other vegetables', 'nan'}), confidence=0.4146919431279621, lift=2.1443192747967963), OrderedStatistic(items_base=frozenset({'nan', 'chicken'}), items_add=frozenset({'other vegetables'}), confidence=0.41567695961995255, lift=2.1482831833222455)]),\n",
       " RelationRecord(items=frozenset({'other vegetables', 'root vegetables', 'nan'}), support=0.0472801220132181, ordered_statistics=[OrderedStatistic(items_base=frozenset({'root vegetables'}), items_add=frozenset({'other vegetables', 'nan'}), confidence=0.43376865671641796, lift=2.2429625335467773), OrderedStatistic(items_base=frozenset({'root vegetables', 'nan'}), items_add=frozenset({'other vegetables'}), confidence=0.4341736694677871, lift=2.2438770568658364)]),\n",
       " RelationRecord(items=frozenset({'other vegetables', 'whipped/sour cream', 'nan'}), support=0.028774783934926284, ordered_statistics=[OrderedStatistic(items_base=frozenset({'whipped/sour cream'}), items_add=frozenset({'other vegetables', 'nan'}), confidence=0.4014184397163121, lift=2.0756836775025915), OrderedStatistic(items_base=frozenset({'whipped/sour cream', 'nan'}), items_add=frozenset({'other vegetables'}), confidence=0.4019886363636364, lift=2.07753979959872)]),\n",
       " RelationRecord(items=frozenset({'other vegetables', 'root vegetables', 'whole milk'}), support=0.023182511438739197, ordered_statistics=[OrderedStatistic(items_base=frozenset({'whole milk', 'root vegetables'}), items_add=frozenset({'other vegetables'}), confidence=0.47401247401247404, lift=2.4497701954349353)]),\n",
       " RelationRecord(items=frozenset({'other vegetables', 'whole milk', 'tropical fruit'}), support=0.01708185053380783, ordered_statistics=[OrderedStatistic(items_base=frozenset({'tropical fruit', 'whole milk'}), items_add=frozenset({'other vegetables'}), confidence=0.4038461538461539, lift=2.087139738873843)]),\n",
       " RelationRecord(items=frozenset({'other vegetables', 'whole milk', 'yogurt'}), support=0.02226741230299949, ordered_statistics=[OrderedStatistic(items_base=frozenset({'other vegetables', 'yogurt'}), items_add=frozenset({'whole milk'}), confidence=0.5128805620608898, lift=2.0072345116867694)]),\n",
       " RelationRecord(items=frozenset({'tropical fruit', 'whole milk', 'yogurt'}), support=0.015149974580579562, ordered_statistics=[OrderedStatistic(items_base=frozenset({'tropical fruit', 'yogurt'}), items_add=frozenset({'whole milk'}), confidence=0.517361111111111, lift=2.0247698081089442)])]"
      ]
     },
     "execution_count": 12,
     "metadata": {},
     "output_type": "execute_result"
    }
   ],
   "source": [
    "results = list(rules)\n",
    "results"
   ]
  },
  {
   "cell_type": "code",
   "execution_count": 13,
   "metadata": {},
   "outputs": [],
   "source": [
    "resultsinDataFrame = pd.DataFrame(inspect(results), columns = ['Left Hand Side', 'Right Hand Side', 'Support', 'Confidence', 'Lift'])"
   ]
  },
  {
   "cell_type": "code",
   "execution_count": 14,
   "metadata": {},
   "outputs": [
    {
     "data": {
      "text/html": [
       "<div>\n",
       "<style scoped>\n",
       "    .dataframe tbody tr th:only-of-type {\n",
       "        vertical-align: middle;\n",
       "    }\n",
       "\n",
       "    .dataframe tbody tr th {\n",
       "        vertical-align: top;\n",
       "    }\n",
       "\n",
       "    .dataframe thead th {\n",
       "        text-align: right;\n",
       "    }\n",
       "</style>\n",
       "<table border=\"1\" class=\"dataframe\">\n",
       "  <thead>\n",
       "    <tr style=\"text-align: right;\">\n",
       "      <th></th>\n",
       "      <th>Left Hand Side</th>\n",
       "      <th>Right Hand Side</th>\n",
       "      <th>Support</th>\n",
       "      <th>Confidence</th>\n",
       "      <th>Lift</th>\n",
       "    </tr>\n",
       "  </thead>\n",
       "  <tbody>\n",
       "    <tr>\n",
       "      <th>0</th>\n",
       "      <td>chicken</td>\n",
       "      <td>[other vegetables]</td>\n",
       "      <td>0.017895</td>\n",
       "      <td>0.417062</td>\n",
       "      <td>2.155439</td>\n",
       "    </tr>\n",
       "    <tr>\n",
       "      <th>1</th>\n",
       "      <td>root vegetables</td>\n",
       "      <td>[other vegetables]</td>\n",
       "      <td>0.047382</td>\n",
       "      <td>0.434701</td>\n",
       "      <td>2.246605</td>\n",
       "    </tr>\n",
       "    <tr>\n",
       "      <th>2</th>\n",
       "      <td>whipped/sour cream</td>\n",
       "      <td>[other vegetables]</td>\n",
       "      <td>0.028876</td>\n",
       "      <td>0.402837</td>\n",
       "      <td>2.081924</td>\n",
       "    </tr>\n",
       "    <tr>\n",
       "      <th>3</th>\n",
       "      <td>chicken</td>\n",
       "      <td>[other vegetables, nan]</td>\n",
       "      <td>0.017794</td>\n",
       "      <td>0.414692</td>\n",
       "      <td>2.144319</td>\n",
       "    </tr>\n",
       "    <tr>\n",
       "      <th>4</th>\n",
       "      <td>root vegetables</td>\n",
       "      <td>[other vegetables, nan]</td>\n",
       "      <td>0.047280</td>\n",
       "      <td>0.433769</td>\n",
       "      <td>2.242963</td>\n",
       "    </tr>\n",
       "    <tr>\n",
       "      <th>5</th>\n",
       "      <td>whipped/sour cream</td>\n",
       "      <td>[other vegetables, nan]</td>\n",
       "      <td>0.028775</td>\n",
       "      <td>0.401418</td>\n",
       "      <td>2.075684</td>\n",
       "    </tr>\n",
       "    <tr>\n",
       "      <th>6</th>\n",
       "      <td>whole milk,root vegetables</td>\n",
       "      <td>[other vegetables]</td>\n",
       "      <td>0.023183</td>\n",
       "      <td>0.474012</td>\n",
       "      <td>2.449770</td>\n",
       "    </tr>\n",
       "    <tr>\n",
       "      <th>7</th>\n",
       "      <td>tropical fruit,whole milk</td>\n",
       "      <td>[other vegetables]</td>\n",
       "      <td>0.017082</td>\n",
       "      <td>0.403846</td>\n",
       "      <td>2.087140</td>\n",
       "    </tr>\n",
       "    <tr>\n",
       "      <th>8</th>\n",
       "      <td>other vegetables,yogurt</td>\n",
       "      <td>[whole milk]</td>\n",
       "      <td>0.022267</td>\n",
       "      <td>0.512881</td>\n",
       "      <td>2.007235</td>\n",
       "    </tr>\n",
       "    <tr>\n",
       "      <th>9</th>\n",
       "      <td>tropical fruit,yogurt</td>\n",
       "      <td>[whole milk]</td>\n",
       "      <td>0.015150</td>\n",
       "      <td>0.517361</td>\n",
       "      <td>2.024770</td>\n",
       "    </tr>\n",
       "  </tbody>\n",
       "</table>\n",
       "</div>"
      ],
      "text/plain": [
       "               Left Hand Side          Right Hand Side   Support  Confidence  \\\n",
       "0                     chicken       [other vegetables]  0.017895    0.417062   \n",
       "1             root vegetables       [other vegetables]  0.047382    0.434701   \n",
       "2          whipped/sour cream       [other vegetables]  0.028876    0.402837   \n",
       "3                     chicken  [other vegetables, nan]  0.017794    0.414692   \n",
       "4             root vegetables  [other vegetables, nan]  0.047280    0.433769   \n",
       "5          whipped/sour cream  [other vegetables, nan]  0.028775    0.401418   \n",
       "6  whole milk,root vegetables       [other vegetables]  0.023183    0.474012   \n",
       "7   tropical fruit,whole milk       [other vegetables]  0.017082    0.403846   \n",
       "8     other vegetables,yogurt             [whole milk]  0.022267    0.512881   \n",
       "9       tropical fruit,yogurt             [whole milk]  0.015150    0.517361   \n",
       "\n",
       "       Lift  \n",
       "0  2.155439  \n",
       "1  2.246605  \n",
       "2  2.081924  \n",
       "3  2.144319  \n",
       "4  2.242963  \n",
       "5  2.075684  \n",
       "6  2.449770  \n",
       "7  2.087140  \n",
       "8  2.007235  \n",
       "9  2.024770  "
      ]
     },
     "execution_count": 14,
     "metadata": {},
     "output_type": "execute_result"
    }
   ],
   "source": [
    "resultsinDataFrame"
   ]
  },
  {
   "cell_type": "code",
   "execution_count": 15,
   "metadata": {},
   "outputs": [],
   "source": [
    "rhs = list(resultsinDataFrame['Right Hand Side'])"
   ]
  },
  {
   "cell_type": "code",
   "execution_count": 16,
   "metadata": {},
   "outputs": [
    {
     "name": "stdout",
     "output_type": "stream",
     "text": [
      "[3, 4, 5]\n"
     ]
    }
   ],
   "source": [
    "indices = []\n",
    "for i, item in enumerate(rhs):\n",
    "    if('nan' in item):\n",
    "        indices.append(i)\n",
    "print(indices)"
   ]
  },
  {
   "cell_type": "code",
   "execution_count": 17,
   "metadata": {},
   "outputs": [
    {
     "data": {
      "text/html": [
       "<div>\n",
       "<style scoped>\n",
       "    .dataframe tbody tr th:only-of-type {\n",
       "        vertical-align: middle;\n",
       "    }\n",
       "\n",
       "    .dataframe tbody tr th {\n",
       "        vertical-align: top;\n",
       "    }\n",
       "\n",
       "    .dataframe thead th {\n",
       "        text-align: right;\n",
       "    }\n",
       "</style>\n",
       "<table border=\"1\" class=\"dataframe\">\n",
       "  <thead>\n",
       "    <tr style=\"text-align: right;\">\n",
       "      <th></th>\n",
       "      <th>Left Hand Side</th>\n",
       "      <th>Right Hand Side</th>\n",
       "      <th>Support</th>\n",
       "      <th>Confidence</th>\n",
       "      <th>Lift</th>\n",
       "    </tr>\n",
       "  </thead>\n",
       "  <tbody>\n",
       "    <tr>\n",
       "      <th>0</th>\n",
       "      <td>chicken</td>\n",
       "      <td>[other vegetables]</td>\n",
       "      <td>0.017895</td>\n",
       "      <td>0.417062</td>\n",
       "      <td>2.155439</td>\n",
       "    </tr>\n",
       "    <tr>\n",
       "      <th>1</th>\n",
       "      <td>root vegetables</td>\n",
       "      <td>[other vegetables]</td>\n",
       "      <td>0.047382</td>\n",
       "      <td>0.434701</td>\n",
       "      <td>2.246605</td>\n",
       "    </tr>\n",
       "    <tr>\n",
       "      <th>2</th>\n",
       "      <td>whipped/sour cream</td>\n",
       "      <td>[other vegetables]</td>\n",
       "      <td>0.028876</td>\n",
       "      <td>0.402837</td>\n",
       "      <td>2.081924</td>\n",
       "    </tr>\n",
       "    <tr>\n",
       "      <th>6</th>\n",
       "      <td>whole milk,root vegetables</td>\n",
       "      <td>[other vegetables]</td>\n",
       "      <td>0.023183</td>\n",
       "      <td>0.474012</td>\n",
       "      <td>2.449770</td>\n",
       "    </tr>\n",
       "    <tr>\n",
       "      <th>7</th>\n",
       "      <td>tropical fruit,whole milk</td>\n",
       "      <td>[other vegetables]</td>\n",
       "      <td>0.017082</td>\n",
       "      <td>0.403846</td>\n",
       "      <td>2.087140</td>\n",
       "    </tr>\n",
       "    <tr>\n",
       "      <th>8</th>\n",
       "      <td>other vegetables,yogurt</td>\n",
       "      <td>[whole milk]</td>\n",
       "      <td>0.022267</td>\n",
       "      <td>0.512881</td>\n",
       "      <td>2.007235</td>\n",
       "    </tr>\n",
       "    <tr>\n",
       "      <th>9</th>\n",
       "      <td>tropical fruit,yogurt</td>\n",
       "      <td>[whole milk]</td>\n",
       "      <td>0.015150</td>\n",
       "      <td>0.517361</td>\n",
       "      <td>2.024770</td>\n",
       "    </tr>\n",
       "  </tbody>\n",
       "</table>\n",
       "</div>"
      ],
      "text/plain": [
       "               Left Hand Side     Right Hand Side   Support  Confidence  \\\n",
       "0                     chicken  [other vegetables]  0.017895    0.417062   \n",
       "1             root vegetables  [other vegetables]  0.047382    0.434701   \n",
       "2          whipped/sour cream  [other vegetables]  0.028876    0.402837   \n",
       "6  whole milk,root vegetables  [other vegetables]  0.023183    0.474012   \n",
       "7   tropical fruit,whole milk  [other vegetables]  0.017082    0.403846   \n",
       "8     other vegetables,yogurt        [whole milk]  0.022267    0.512881   \n",
       "9       tropical fruit,yogurt        [whole milk]  0.015150    0.517361   \n",
       "\n",
       "       Lift  \n",
       "0  2.155439  \n",
       "1  2.246605  \n",
       "2  2.081924  \n",
       "6  2.449770  \n",
       "7  2.087140  \n",
       "8  2.007235  \n",
       "9  2.024770  "
      ]
     },
     "execution_count": 17,
     "metadata": {},
     "output_type": "execute_result"
    }
   ],
   "source": [
    "resultsinDataFrame.drop(indices, inplace=True)\n",
    "resultsinDataFrame"
   ]
  },
  {
   "cell_type": "code",
   "execution_count": null,
   "metadata": {},
   "outputs": [],
   "source": [
    "resultsinDataFrame.nlargest(n = 10, columns = 'Lift')"
   ]
  },
  {
   "cell_type": "code",
   "execution_count": 1,
   "metadata": {},
   "outputs": [
    {
     "ename": "ModuleNotFoundError",
     "evalue": "No module named 'matplotlib'",
     "output_type": "error",
     "traceback": [
      "\u001b[1;31m---------------------------------------------------------------------------\u001b[0m",
      "\u001b[1;31mModuleNotFoundError\u001b[0m                       Traceback (most recent call last)",
      "\u001b[1;32m<ipython-input-1-a0d2faabd9e9>\u001b[0m in \u001b[0;36m<module>\u001b[1;34m\u001b[0m\n\u001b[1;32m----> 1\u001b[1;33m \u001b[1;32mimport\u001b[0m \u001b[0mmatplotlib\u001b[0m\u001b[1;33m.\u001b[0m\u001b[0mpyplot\u001b[0m \u001b[1;32mas\u001b[0m \u001b[0mplt\u001b[0m\u001b[1;33m\u001b[0m\u001b[1;33m\u001b[0m\u001b[0m\n\u001b[0m",
      "\u001b[1;31mModuleNotFoundError\u001b[0m: No module named 'matplotlib'"
     ]
    }
   ],
   "source": [
    "import matplotlib.pyplot as plt\n"
   ]
  },
  {
   "cell_type": "code",
   "execution_count": null,
   "metadata": {},
   "outputs": [],
   "source": []
  }
 ],
 "metadata": {
  "kernelspec": {
   "display_name": "Python 3",
   "language": "python",
   "name": "python3"
  },
  "language_info": {
   "codemirror_mode": {
    "name": "ipython",
    "version": 3
   },
   "file_extension": ".py",
   "mimetype": "text/x-python",
   "name": "python",
   "nbconvert_exporter": "python",
   "pygments_lexer": "ipython3",
   "version": "3.7.9"
  }
 },
 "nbformat": 4,
 "nbformat_minor": 4
}
