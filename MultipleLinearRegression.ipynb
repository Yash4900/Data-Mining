{
 "cells": [
  {
   "cell_type": "markdown",
   "metadata": {
    "id": "KoSZYayc6lfG"
   },
   "source": [
    "# Multiple Linear Regression"
   ]
  },
  {
   "cell_type": "markdown",
   "metadata": {
    "id": "3F2DIdXp6lfN"
   },
   "source": [
    "### Importing Libraries"
   ]
  },
  {
   "cell_type": "code",
   "execution_count": null,
   "metadata": {
    "id": "bWYsjq0c6lfP"
   },
   "outputs": [],
   "source": [
    "import numpy as np\n",
    "import pandas as pd\n",
    "import matplotlib.pyplot as plt"
   ]
  },
  {
   "cell_type": "markdown",
   "metadata": {
    "id": "a5FLp-uI6lfS"
   },
   "source": [
    "### Importing dataset"
   ]
  },
  {
   "cell_type": "code",
   "execution_count": null,
   "metadata": {
    "id": "fgHs7P8v6lfU"
   },
   "outputs": [],
   "source": [
    "df = pd.read_csv('./sample_data/Real estate.csv',na_values=['??'])"
   ]
  },
  {
   "cell_type": "code",
   "execution_count": null,
   "metadata": {
    "colab": {
     "base_uri": "https://localhost:8080/",
     "height": 221
    },
    "id": "3d1wjN0C6lfW",
    "outputId": "e4f1ff34-9ed4-4746-c746-15d146b23451"
   },
   "outputs": [
    {
     "data": {
      "text/html": [
       "<div>\n",
       "<style scoped>\n",
       "    .dataframe tbody tr th:only-of-type {\n",
       "        vertical-align: middle;\n",
       "    }\n",
       "\n",
       "    .dataframe tbody tr th {\n",
       "        vertical-align: top;\n",
       "    }\n",
       "\n",
       "    .dataframe thead th {\n",
       "        text-align: right;\n",
       "    }\n",
       "</style>\n",
       "<table border=\"1\" class=\"dataframe\">\n",
       "  <thead>\n",
       "    <tr style=\"text-align: right;\">\n",
       "      <th></th>\n",
       "      <th>No</th>\n",
       "      <th>X1 transaction date</th>\n",
       "      <th>X2 house age</th>\n",
       "      <th>X3 distance to the nearest MRT station</th>\n",
       "      <th>X4 number of convenience stores</th>\n",
       "      <th>X5 latitude</th>\n",
       "      <th>X6 longitude</th>\n",
       "      <th>Y house price of unit area</th>\n",
       "    </tr>\n",
       "  </thead>\n",
       "  <tbody>\n",
       "    <tr>\n",
       "      <th>0</th>\n",
       "      <td>1</td>\n",
       "      <td>2012.917</td>\n",
       "      <td>32.0</td>\n",
       "      <td>84.87882</td>\n",
       "      <td>10</td>\n",
       "      <td>24.98298</td>\n",
       "      <td>121.54024</td>\n",
       "      <td>37.9</td>\n",
       "    </tr>\n",
       "    <tr>\n",
       "      <th>1</th>\n",
       "      <td>2</td>\n",
       "      <td>2012.917</td>\n",
       "      <td>19.5</td>\n",
       "      <td>306.59470</td>\n",
       "      <td>9</td>\n",
       "      <td>24.98034</td>\n",
       "      <td>121.53951</td>\n",
       "      <td>42.2</td>\n",
       "    </tr>\n",
       "    <tr>\n",
       "      <th>2</th>\n",
       "      <td>3</td>\n",
       "      <td>2013.583</td>\n",
       "      <td>13.3</td>\n",
       "      <td>561.98450</td>\n",
       "      <td>5</td>\n",
       "      <td>24.98746</td>\n",
       "      <td>121.54391</td>\n",
       "      <td>47.3</td>\n",
       "    </tr>\n",
       "    <tr>\n",
       "      <th>3</th>\n",
       "      <td>4</td>\n",
       "      <td>2013.500</td>\n",
       "      <td>13.3</td>\n",
       "      <td>561.98450</td>\n",
       "      <td>5</td>\n",
       "      <td>24.98746</td>\n",
       "      <td>121.54391</td>\n",
       "      <td>54.8</td>\n",
       "    </tr>\n",
       "    <tr>\n",
       "      <th>4</th>\n",
       "      <td>5</td>\n",
       "      <td>2012.833</td>\n",
       "      <td>5.0</td>\n",
       "      <td>390.56840</td>\n",
       "      <td>5</td>\n",
       "      <td>24.97937</td>\n",
       "      <td>121.54245</td>\n",
       "      <td>43.1</td>\n",
       "    </tr>\n",
       "  </tbody>\n",
       "</table>\n",
       "</div>"
      ],
      "text/plain": [
       "   No  X1 transaction date  ...  X6 longitude  Y house price of unit area\n",
       "0   1             2012.917  ...     121.54024                        37.9\n",
       "1   2             2012.917  ...     121.53951                        42.2\n",
       "2   3             2013.583  ...     121.54391                        47.3\n",
       "3   4             2013.500  ...     121.54391                        54.8\n",
       "4   5             2012.833  ...     121.54245                        43.1\n",
       "\n",
       "[5 rows x 8 columns]"
      ]
     },
     "execution_count": 3,
     "metadata": {
      "tags": []
     },
     "output_type": "execute_result"
    }
   ],
   "source": [
    "df.head()"
   ]
  },
  {
   "cell_type": "markdown",
   "metadata": {
    "id": "v_hdMQYf8atE"
   },
   "source": [
    "### Dataset description\n",
    "\n",
    "1.  transaction date - date on which transaction was carried out\n",
    "2.  house age - age of house in years\n",
    "3.  distance to the nearest MRT station - distance of house from Mass Rapid Transit station\n",
    "4.  number of convenience stores = No. of stores near to the house\n",
    "5.  latitude - latitude of house\n",
    "6.  longitude - longitude of house"
   ]
  },
  {
   "cell_type": "markdown",
   "metadata": {
    "id": "0PpDZSpz6lfb"
   },
   "source": [
    "### Dropping Nan values if any and 'No' column"
   ]
  },
  {
   "cell_type": "code",
   "execution_count": null,
   "metadata": {
    "id": "4BtEEydw6lfc"
   },
   "outputs": [],
   "source": [
    "df.dropna(inplace=True)\n",
    "df.drop(columns=['No'], inplace=True)"
   ]
  },
  {
   "cell_type": "markdown",
   "metadata": {
    "id": "NWPgcQKq6lfd"
   },
   "source": [
    "### Dataset shape"
   ]
  },
  {
   "cell_type": "code",
   "execution_count": null,
   "metadata": {
    "colab": {
     "base_uri": "https://localhost:8080/"
    },
    "id": "XWI6hezN6lfe",
    "outputId": "a9b94cd4-7175-4bb5-e6e6-e7a808fd7d1c"
   },
   "outputs": [
    {
     "data": {
      "text/plain": [
       "(403, 7)"
      ]
     },
     "execution_count": 5,
     "metadata": {
      "tags": []
     },
     "output_type": "execute_result"
    }
   ],
   "source": [
    "df.shape"
   ]
  },
  {
   "cell_type": "markdown",
   "metadata": {
    "id": "7uvsuVHu6lfg"
   },
   "source": [
    "### Generating features and labels"
   ]
  },
  {
   "cell_type": "code",
   "execution_count": null,
   "metadata": {
    "id": "bU6N81bP6lfh"
   },
   "outputs": [],
   "source": [
    "x = df.loc[:, 'X1 transaction date':'X6 longitude'].values\n",
    "y = df['Y house price of unit area'].values.reshape(-1,1)"
   ]
  },
  {
   "cell_type": "markdown",
   "metadata": {
    "id": "xPOl6-Fc6lfi"
   },
   "source": [
    "### Splitting the dataset into train and test"
   ]
  },
  {
   "cell_type": "code",
   "execution_count": null,
   "metadata": {
    "id": "jn_ugUET6lfj"
   },
   "outputs": [],
   "source": [
    "from sklearn.model_selection import train_test_split\n",
    "x_train, x_test, y_train, y_test = train_test_split(x, y, test_size = 0.3, random_state = 0)"
   ]
  },
  {
   "cell_type": "markdown",
   "metadata": {
    "id": "pVSWGzA-6lfk"
   },
   "source": [
    "### Importing Linear Regression model and fitting train dataset on model"
   ]
  },
  {
   "cell_type": "code",
   "execution_count": null,
   "metadata": {
    "colab": {
     "base_uri": "https://localhost:8080/"
    },
    "id": "q8eP57hM6lfl",
    "outputId": "66367b72-8cc4-4b47-e861-c304b5415f0b"
   },
   "outputs": [
    {
     "data": {
      "text/plain": [
       "LinearRegression(copy_X=True, fit_intercept=True, n_jobs=None, normalize=True)"
      ]
     },
     "execution_count": 8,
     "metadata": {
      "tags": []
     },
     "output_type": "execute_result"
    }
   ],
   "source": [
    "from sklearn.linear_model import LinearRegression\n",
    "regressor = LinearRegression(normalize=True)\n",
    "regressor.fit(x_train, y_train)"
   ]
  },
  {
   "cell_type": "markdown",
   "metadata": {
    "id": "ljxfj_wr6lfp"
   },
   "source": [
    "### Predicting output for test features"
   ]
  },
  {
   "cell_type": "code",
   "execution_count": null,
   "metadata": {
    "id": "S9wm6HNd6lfq"
   },
   "outputs": [],
   "source": [
    "y_pred = regressor.predict(x_test)"
   ]
  },
  {
   "cell_type": "markdown",
   "metadata": {
    "id": "fUV7a0IM7FgK"
   },
   "source": [
    "### Printing errors and R2 score"
   ]
  },
  {
   "cell_type": "code",
   "execution_count": null,
   "metadata": {
    "colab": {
     "base_uri": "https://localhost:8080/"
    },
    "id": "W3fpac2p6lfr",
    "outputId": "13d598cf-6935-409e-e8a3-5a92e9694982"
   },
   "outputs": [
    {
     "name": "stdout",
     "output_type": "stream",
     "text": [
      "Mean Squared Error =>  55.47366509555721\n",
      "Mean Absolute Error =>  5.6814242307588065\n",
      "R2 score =>  0.5836173306500637\n"
     ]
    }
   ],
   "source": [
    "from sklearn.metrics import mean_squared_error,mean_absolute_error,r2_score \n",
    "print('Mean Squared Error => ', mean_squared_error(y_test,y_pred))\n",
    "print('Mean Absolute Error => ', mean_absolute_error(y_test,y_pred))\n",
    "print('R2 score => ', r2_score(y_test,y_pred))"
   ]
  },
  {
   "cell_type": "markdown",
   "metadata": {
    "id": "8NvhBk6_7xzO"
   },
   "source": [
    "### Printing coefficients"
   ]
  },
  {
   "cell_type": "code",
   "execution_count": null,
   "metadata": {
    "colab": {
     "base_uri": "https://localhost:8080/"
    },
    "id": "O8dCutmd6lfs",
    "outputId": "a4571b5d-ecb1-426d-f35a-aa49ce4ba567"
   },
   "outputs": [
    {
     "name": "stdout",
     "output_type": "stream",
     "text": [
      "Coefficients :  [[ 6.45720460e+00 -2.63444182e-01 -4.67009892e-03  1.08482432e+00\n",
      "   2.21714875e+02  7.04259734e+00]]\n",
      "Regressor intercept  [-19347.25768737]\n"
     ]
    }
   ],
   "source": [
    "print('Coefficients : ', regressor.coef_)\n",
    "print('Regressor intercept ', regressor.intercept_)"
   ]
  },
  {
   "cell_type": "markdown",
   "metadata": {
    "id": "YNfkB0FZ73Ao"
   },
   "source": [
    "### Comparing predicted and actual values"
   ]
  },
  {
   "cell_type": "code",
   "execution_count": null,
   "metadata": {
    "id": "MIYhY0DP6lft"
   },
   "outputs": [],
   "source": [
    "comparison = {\n",
    "    'actual': y_test.flatten(),\n",
    "    'predicted': y_pred.flatten()\n",
    "}"
   ]
  },
  {
   "cell_type": "code",
   "execution_count": null,
   "metadata": {
    "id": "D8xlR0Ox6lfu"
   },
   "outputs": [],
   "source": [
    "temp = pd.DataFrame(comparison)"
   ]
  },
  {
   "cell_type": "code",
   "execution_count": null,
   "metadata": {
    "colab": {
     "base_uri": "https://localhost:8080/",
     "height": 359
    },
    "id": "ykTxED4y6lfw",
    "outputId": "bf92b90b-fca5-4f52-f261-38e9882ece56"
   },
   "outputs": [
    {
     "data": {
      "text/html": [
       "<div>\n",
       "<style scoped>\n",
       "    .dataframe tbody tr th:only-of-type {\n",
       "        vertical-align: middle;\n",
       "    }\n",
       "\n",
       "    .dataframe tbody tr th {\n",
       "        vertical-align: top;\n",
       "    }\n",
       "\n",
       "    .dataframe thead th {\n",
       "        text-align: right;\n",
       "    }\n",
       "</style>\n",
       "<table border=\"1\" class=\"dataframe\">\n",
       "  <thead>\n",
       "    <tr style=\"text-align: right;\">\n",
       "      <th></th>\n",
       "      <th>actual</th>\n",
       "      <th>predicted</th>\n",
       "    </tr>\n",
       "  </thead>\n",
       "  <tbody>\n",
       "    <tr>\n",
       "      <th>0</th>\n",
       "      <td>31.6</td>\n",
       "      <td>47.652783</td>\n",
       "    </tr>\n",
       "    <tr>\n",
       "      <th>1</th>\n",
       "      <td>36.7</td>\n",
       "      <td>46.022305</td>\n",
       "    </tr>\n",
       "    <tr>\n",
       "      <th>2</th>\n",
       "      <td>42.4</td>\n",
       "      <td>41.406355</td>\n",
       "    </tr>\n",
       "    <tr>\n",
       "      <th>3</th>\n",
       "      <td>29.8</td>\n",
       "      <td>33.545323</td>\n",
       "    </tr>\n",
       "    <tr>\n",
       "      <th>4</th>\n",
       "      <td>44.3</td>\n",
       "      <td>44.933170</td>\n",
       "    </tr>\n",
       "    <tr>\n",
       "      <th>5</th>\n",
       "      <td>21.8</td>\n",
       "      <td>30.884354</td>\n",
       "    </tr>\n",
       "    <tr>\n",
       "      <th>6</th>\n",
       "      <td>39.1</td>\n",
       "      <td>40.898473</td>\n",
       "    </tr>\n",
       "    <tr>\n",
       "      <th>7</th>\n",
       "      <td>33.4</td>\n",
       "      <td>36.928207</td>\n",
       "    </tr>\n",
       "    <tr>\n",
       "      <th>8</th>\n",
       "      <td>37.5</td>\n",
       "      <td>43.265004</td>\n",
       "    </tr>\n",
       "    <tr>\n",
       "      <th>9</th>\n",
       "      <td>28.5</td>\n",
       "      <td>34.738996</td>\n",
       "    </tr>\n",
       "  </tbody>\n",
       "</table>\n",
       "</div>"
      ],
      "text/plain": [
       "   actual  predicted\n",
       "0    31.6  47.652783\n",
       "1    36.7  46.022305\n",
       "2    42.4  41.406355\n",
       "3    29.8  33.545323\n",
       "4    44.3  44.933170\n",
       "5    21.8  30.884354\n",
       "6    39.1  40.898473\n",
       "7    33.4  36.928207\n",
       "8    37.5  43.265004\n",
       "9    28.5  34.738996"
      ]
     },
     "execution_count": 14,
     "metadata": {
      "tags": []
     },
     "output_type": "execute_result"
    }
   ],
   "source": [
    "temp.head(10)"
   ]
  },
  {
   "cell_type": "markdown",
   "metadata": {
    "id": "0yvMjIt08BTs"
   },
   "source": [
    "### Interpretation\n",
    "\n",
    "It can be observed that the predicted and actual values are very much near to each other "
   ]
  },
  {
   "cell_type": "code",
   "execution_count": null,
   "metadata": {
    "id": "1joPUvtm8EgV"
   },
   "outputs": [],
   "source": []
  }
 ],
 "metadata": {
  "colab": {
   "collapsed_sections": [],
   "name": "MultipleLinearRegression.ipynb",
   "provenance": []
  },
  "kernelspec": {
   "display_name": "Python 3",
   "language": "python",
   "name": "python3"
  },
  "language_info": {
   "codemirror_mode": {
    "name": "ipython",
    "version": 3
   },
   "file_extension": ".py",
   "mimetype": "text/x-python",
   "name": "python",
   "nbconvert_exporter": "python",
   "pygments_lexer": "ipython3",
   "version": "3.7.9"
  }
 },
 "nbformat": 4,
 "nbformat_minor": 1
}
