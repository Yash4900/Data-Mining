{
 "cells": [
  {
   "cell_type": "code",
   "execution_count": 1,
   "metadata": {},
   "outputs": [],
   "source": [
    "def euclidean(a: list, b:list):\n",
    "    ans = 0\n",
    "    for i in range(len(a)):\n",
    "        ans = ans + (a[i]-b[i])**2\n",
    "    return ans**0.5\n",
    "\n",
    "def mean_val(lst: list):\n",
    "    m = []\n",
    "    l = len(lst)\n",
    "    for i in range(len(lst[0])):\n",
    "        s = 0\n",
    "        for val in lst:\n",
    "            s += val[i]\n",
    "        m.append(s/l)\n",
    "    return m  \n",
    "\n",
    "def error(mean: list, points: list):\n",
    "    err = 0\n",
    "    for i in range(len(points)):\n",
    "        err += euclidean(mean, points[i])\n",
    "    return err**0.5"
   ]
  },
  {
   "cell_type": "code",
   "execution_count": 2,
   "metadata": {},
   "outputs": [],
   "source": [
    "def k_means(data, k, means):\n",
    "    temp = means.copy()\n",
    "\n",
    "    clusters = {}\n",
    "\n",
    "    while(True):\n",
    "        for i in range(k):\n",
    "            clusters[i] = []\n",
    "        for point in data:\n",
    "            min_dist = 99999\n",
    "            index = 0\n",
    "            for i,mean in enumerate(means):\n",
    "                dist = euclidean(point, mean)\n",
    "                if(dist<min_dist):\n",
    "                    min_dist = dist\n",
    "                    index = i\n",
    "\n",
    "            clusters[index].append(point)\n",
    "\n",
    "        for i in range(k):\n",
    "            means[i] = mean_val(clusters[i])\n",
    "\n",
    "        if(means==temp):\n",
    "            break\n",
    "        else:\n",
    "            temp = means.copy()\n",
    "        \n",
    "    print('Clusters: ',clusters)\n",
    "    print('\\nMeans: ',means)\n",
    "    abs_err = 0\n",
    "    for i in range(k):\n",
    "        abs_err += error(means[i], clusters[i])\n",
    "    \n",
    "    print('\\nAbsoluter error: ',abs_err)\n",
    "    \n"
   ]
  },
  {
   "cell_type": "code",
   "execution_count": 3,
   "metadata": {},
   "outputs": [
    {
     "name": "stdout",
     "output_type": "stream",
     "text": [
      "Clusters:  {0: [[2], [3], [10], [4], [12], [11]], 1: [[20], [30], [25]]}\n",
      "\n",
      "Means:  [[7.0], [25.0]]\n",
      "\n",
      "Absoluter error:  8.061257145734736\n"
     ]
    }
   ],
   "source": [
    "k_means([[2],[3],[10],[4],[12],[11],[20],[30],[25]], 2, [[3],[5]])\n"
   ]
  },
  {
   "cell_type": "code",
   "execution_count": 4,
   "metadata": {},
   "outputs": [
    {
     "name": "stdout",
     "output_type": "stream",
     "text": [
      "Clusters:  {0: [[2], [3], [4]], 1: [[10], [12], [11]], 2: [[20], [30], [25]]}\n",
      "\n",
      "Means:  [[3.0], [11.0], [25.0]]\n",
      "\n",
      "Absoluter error:  5.99070478491457\n"
     ]
    }
   ],
   "source": [
    "k_means([[2],[3],[10],[4],[12],[11],[20],[30],[25]], 3, [[3],[5],[20]])\n"
   ]
  },
  {
   "cell_type": "code",
   "execution_count": 5,
   "metadata": {},
   "outputs": [
    {
     "name": "stdout",
     "output_type": "stream",
     "text": [
      "Clusters:  {0: [[2, 3], [4, 5], [3, 4]], 1: [[9, 7], [8, 5], [8, 7]]}\n",
      "\n",
      "Means:  [[3.0, 4.0], [8.333333333333334, 6.333333333333333]]\n",
      "\n",
      "Absoluter error:  3.431802423611006\n"
     ]
    }
   ],
   "source": [
    "k_means([[2,3],[4,5],[3,4],[9,7],[8,5],[8,7]],2,[[2,4],[7,7]])"
   ]
  },
  {
   "cell_type": "code",
   "execution_count": 20,
   "metadata": {},
   "outputs": [],
   "source": [
    "import pandas as pd"
   ]
  },
  {
   "cell_type": "code",
   "execution_count": 21,
   "metadata": {},
   "outputs": [],
   "source": [
    "data = pd.read_csv('./datasets/Tips.csv')"
   ]
  },
  {
   "cell_type": "code",
   "execution_count": 22,
   "metadata": {},
   "outputs": [],
   "source": [
    "df1 = data.loc[:, ['TotalBill', 'Tips', 'Time']]"
   ]
  },
  {
   "cell_type": "code",
   "execution_count": 23,
   "metadata": {},
   "outputs": [
    {
     "name": "stdout",
     "output_type": "stream",
     "text": [
      "    TotalBill  Tips    Time\n",
      "0       16.99  1.01  Dinner\n",
      "1       10.34  1.66  Dinner\n",
      "2       21.01  3.50  Dinner\n",
      "3       23.68  3.31  Dinner\n",
      "4       24.59  3.61  Dinner\n",
      "..        ...   ...     ...\n",
      "95      40.17  4.73  Dinner\n",
      "96      27.28  4.00  Dinner\n",
      "97      12.03  1.50  Dinner\n",
      "98      21.01  3.00  Dinner\n",
      "99      25.10   NaN   Lunch\n",
      "\n",
      "[100 rows x 3 columns]\n"
     ]
    }
   ],
   "source": [
    "print(df1)"
   ]
  },
  {
   "cell_type": "code",
   "execution_count": 24,
   "metadata": {},
   "outputs": [],
   "source": [
    "data1 = pd.read_csv('./datasets/Tips1.csv')"
   ]
  },
  {
   "cell_type": "code",
   "execution_count": 29,
   "metadata": {},
   "outputs": [],
   "source": [
    "data2 = pd.merge(data, data1, how='left')"
   ]
  },
  {
   "cell_type": "code",
   "execution_count": 30,
   "metadata": {},
   "outputs": [
    {
     "data": {
      "text/html": [
       "<div>\n",
       "<style scoped>\n",
       "    .dataframe tbody tr th:only-of-type {\n",
       "        vertical-align: middle;\n",
       "    }\n",
       "\n",
       "    .dataframe tbody tr th {\n",
       "        vertical-align: top;\n",
       "    }\n",
       "\n",
       "    .dataframe thead th {\n",
       "        text-align: right;\n",
       "    }\n",
       "</style>\n",
       "<table border=\"1\" class=\"dataframe\">\n",
       "  <thead>\n",
       "    <tr style=\"text-align: right;\">\n",
       "      <th></th>\n",
       "      <th>SINO</th>\n",
       "      <th>TotalBill</th>\n",
       "      <th>Tips</th>\n",
       "      <th>Smoker</th>\n",
       "      <th>Day</th>\n",
       "      <th>Time</th>\n",
       "      <th>Size</th>\n",
       "      <th>Gender</th>\n",
       "    </tr>\n",
       "  </thead>\n",
       "  <tbody>\n",
       "    <tr>\n",
       "      <th>0</th>\n",
       "      <td>1</td>\n",
       "      <td>16.99</td>\n",
       "      <td>1.01</td>\n",
       "      <td>No</td>\n",
       "      <td>Sun</td>\n",
       "      <td>Dinner</td>\n",
       "      <td>2.0</td>\n",
       "      <td>Female</td>\n",
       "    </tr>\n",
       "    <tr>\n",
       "      <th>1</th>\n",
       "      <td>2</td>\n",
       "      <td>10.34</td>\n",
       "      <td>1.66</td>\n",
       "      <td>No</td>\n",
       "      <td>Sun</td>\n",
       "      <td>Dinner</td>\n",
       "      <td>3.0</td>\n",
       "      <td>Male</td>\n",
       "    </tr>\n",
       "    <tr>\n",
       "      <th>2</th>\n",
       "      <td>3</td>\n",
       "      <td>21.01</td>\n",
       "      <td>3.50</td>\n",
       "      <td>No</td>\n",
       "      <td>Sun</td>\n",
       "      <td>Dinner</td>\n",
       "      <td>3.0</td>\n",
       "      <td>Male</td>\n",
       "    </tr>\n",
       "    <tr>\n",
       "      <th>3</th>\n",
       "      <td>4</td>\n",
       "      <td>23.68</td>\n",
       "      <td>3.31</td>\n",
       "      <td>No</td>\n",
       "      <td>Sun</td>\n",
       "      <td>Dinner</td>\n",
       "      <td>2.0</td>\n",
       "      <td>Male</td>\n",
       "    </tr>\n",
       "    <tr>\n",
       "      <th>4</th>\n",
       "      <td>5</td>\n",
       "      <td>24.59</td>\n",
       "      <td>3.61</td>\n",
       "      <td>No</td>\n",
       "      <td>Sun</td>\n",
       "      <td>Dinner</td>\n",
       "      <td>4.0</td>\n",
       "      <td>Female</td>\n",
       "    </tr>\n",
       "  </tbody>\n",
       "</table>\n",
       "</div>"
      ],
      "text/plain": [
       "   SINO  TotalBill  Tips Smoker  Day    Time  Size  Gender\n",
       "0     1      16.99  1.01     No  Sun  Dinner   2.0  Female\n",
       "1     2      10.34  1.66     No  Sun  Dinner   3.0    Male\n",
       "2     3      21.01  3.50     No  Sun  Dinner   3.0    Male\n",
       "3     4      23.68  3.31     No  Sun  Dinner   2.0    Male\n",
       "4     5      24.59  3.61     No  Sun  Dinner   4.0  Female"
      ]
     },
     "execution_count": 30,
     "metadata": {},
     "output_type": "execute_result"
    }
   ],
   "source": [
    "data2.head()"
   ]
  },
  {
   "cell_type": "code",
   "execution_count": 44,
   "metadata": {},
   "outputs": [
    {
     "data": {
      "text/html": [
       "<div>\n",
       "<style scoped>\n",
       "    .dataframe tbody tr th:only-of-type {\n",
       "        vertical-align: middle;\n",
       "    }\n",
       "\n",
       "    .dataframe tbody tr th {\n",
       "        vertical-align: top;\n",
       "    }\n",
       "\n",
       "    .dataframe thead th {\n",
       "        text-align: right;\n",
       "    }\n",
       "</style>\n",
       "<table border=\"1\" class=\"dataframe\">\n",
       "  <thead>\n",
       "    <tr style=\"text-align: right;\">\n",
       "      <th></th>\n",
       "      <th></th>\n",
       "      <th>SINO</th>\n",
       "      <th>TotalBill</th>\n",
       "      <th>Size</th>\n",
       "    </tr>\n",
       "    <tr>\n",
       "      <th>Day</th>\n",
       "      <th>Tips</th>\n",
       "      <th></th>\n",
       "      <th></th>\n",
       "      <th></th>\n",
       "    </tr>\n",
       "  </thead>\n",
       "  <tbody>\n",
       "    <tr>\n",
       "      <th rowspan=\"5\" valign=\"top\">Fri</th>\n",
       "      <th>1.00</th>\n",
       "      <td>93</td>\n",
       "      <td>5.75</td>\n",
       "      <td>2.0</td>\n",
       "    </tr>\n",
       "    <tr>\n",
       "      <th>1.50</th>\n",
       "      <td>98</td>\n",
       "      <td>12.03</td>\n",
       "      <td>2.0</td>\n",
       "    </tr>\n",
       "    <tr>\n",
       "      <th>3.00</th>\n",
       "      <td>190</td>\n",
       "      <td>49.98</td>\n",
       "      <td>4.0</td>\n",
       "    </tr>\n",
       "    <tr>\n",
       "      <th>3.25</th>\n",
       "      <td>95</td>\n",
       "      <td>22.75</td>\n",
       "      <td>2.0</td>\n",
       "    </tr>\n",
       "    <tr>\n",
       "      <th>3.50</th>\n",
       "      <td>92</td>\n",
       "      <td>22.49</td>\n",
       "      <td>2.0</td>\n",
       "    </tr>\n",
       "    <tr>\n",
       "      <th>...</th>\n",
       "      <th>...</th>\n",
       "      <td>...</td>\n",
       "      <td>...</td>\n",
       "      <td>...</td>\n",
       "    </tr>\n",
       "    <tr>\n",
       "      <th rowspan=\"5\" valign=\"top\">Thur</th>\n",
       "      <th>3.40</th>\n",
       "      <td>82</td>\n",
       "      <td>16.66</td>\n",
       "      <td>2.0</td>\n",
       "    </tr>\n",
       "    <tr>\n",
       "      <th>4.00</th>\n",
       "      <td>166</td>\n",
       "      <td>45.48</td>\n",
       "      <td>6.0</td>\n",
       "    </tr>\n",
       "    <tr>\n",
       "      <th>5.00</th>\n",
       "      <td>84</td>\n",
       "      <td>32.68</td>\n",
       "      <td>2.0</td>\n",
       "    </tr>\n",
       "    <tr>\n",
       "      <th>5.17</th>\n",
       "      <td>86</td>\n",
       "      <td>34.83</td>\n",
       "      <td>4.0</td>\n",
       "    </tr>\n",
       "    <tr>\n",
       "      <th>5.85</th>\n",
       "      <td>89</td>\n",
       "      <td>24.71</td>\n",
       "      <td>2.0</td>\n",
       "    </tr>\n",
       "  </tbody>\n",
       "</table>\n",
       "<p>78 rows × 3 columns</p>\n",
       "</div>"
      ],
      "text/plain": [
       "           SINO  TotalBill  Size\n",
       "Day  Tips                       \n",
       "Fri  1.00    93       5.75   2.0\n",
       "     1.50    98      12.03   2.0\n",
       "     3.00   190      49.98   4.0\n",
       "     3.25    95      22.75   2.0\n",
       "     3.50    92      22.49   2.0\n",
       "...         ...        ...   ...\n",
       "Thur 3.40    82      16.66   2.0\n",
       "     4.00   166      45.48   6.0\n",
       "     5.00    84      32.68   2.0\n",
       "     5.17    86      34.83   4.0\n",
       "     5.85    89      24.71   2.0\n",
       "\n",
       "[78 rows x 3 columns]"
      ]
     },
     "execution_count": 44,
     "metadata": {},
     "output_type": "execute_result"
    }
   ],
   "source": [
    "data3.groupby(['Day', 'Tips']).aggregate(sum)"
   ]
  },
  {
   "cell_type": "code",
   "execution_count": 43,
   "metadata": {},
   "outputs": [
    {
     "name": "stdout",
     "output_type": "stream",
     "text": [
      "    SINO  TotalBill  Tips Smoker  Day    Time  Size  Gender\n",
      "0      1      16.99  1.01     No  Sun  Dinner   2.0  Female\n",
      "1      2      10.34  1.66     No  Sun  Dinner   3.0    Male\n",
      "2      3      21.01  3.50     No  Sun  Dinner   3.0    Male\n",
      "3      4      23.68  3.31     No  Sun  Dinner   2.0    Male\n",
      "4      5      24.59  3.61     No  Sun  Dinner   4.0  Female\n",
      "..   ...        ...   ...    ...  ...     ...   ...     ...\n",
      "95    96      40.17  4.73    Yes  Fri  Dinner   4.0    Male\n",
      "96    97      27.28  4.00    Yes  Fri  Dinner   2.0    Male\n",
      "97    98      12.03  1.50    Yes  Fri  Dinner   2.0    Male\n",
      "98    99      21.01  3.00    Yes  Fri  Dinner   2.0    Male\n",
      "99   100      25.10   NaN     No  NaN   Lunch   2.0     NaN\n",
      "\n",
      "[100 rows x 8 columns]\n"
     ]
    }
   ],
   "source": [
    "print(data3)"
   ]
  },
  {
   "cell_type": "code",
   "execution_count": 36,
   "metadata": {},
   "outputs": [
    {
     "data": {
      "text/html": [
       "<div>\n",
       "<style scoped>\n",
       "    .dataframe tbody tr th:only-of-type {\n",
       "        vertical-align: middle;\n",
       "    }\n",
       "\n",
       "    .dataframe tbody tr th {\n",
       "        vertical-align: top;\n",
       "    }\n",
       "\n",
       "    .dataframe thead th {\n",
       "        text-align: right;\n",
       "    }\n",
       "</style>\n",
       "<table border=\"1\" class=\"dataframe\">\n",
       "  <thead>\n",
       "    <tr style=\"text-align: right;\">\n",
       "      <th></th>\n",
       "      <th>Dinner</th>\n",
       "      <th>Lunch</th>\n",
       "    </tr>\n",
       "    <tr>\n",
       "      <th>Gender</th>\n",
       "      <th></th>\n",
       "      <th></th>\n",
       "    </tr>\n",
       "  </thead>\n",
       "  <tbody>\n",
       "    <tr>\n",
       "      <th>Female</th>\n",
       "      <td>24</td>\n",
       "      <td>2</td>\n",
       "    </tr>\n",
       "    <tr>\n",
       "      <th>Male</th>\n",
       "      <td>56</td>\n",
       "      <td>11</td>\n",
       "    </tr>\n",
       "  </tbody>\n",
       "</table>\n",
       "</div>"
      ],
      "text/plain": [
       "        Dinner  Lunch\n",
       "Gender               \n",
       "Female      24      2\n",
       "Male        56     11"
      ]
     },
     "execution_count": 36,
     "metadata": {},
     "output_type": "execute_result"
    }
   ],
   "source": [
    "data3.pivot_table('Time', index='Gender', columns=data3.Time.values, aggfunc=len)"
   ]
  },
  {
   "cell_type": "code",
   "execution_count": null,
   "metadata": {},
   "outputs": [],
   "source": []
  }
 ],
 "metadata": {
  "kernelspec": {
   "display_name": "Python 3",
   "language": "python",
   "name": "python3"
  },
  "language_info": {
   "codemirror_mode": {
    "name": "ipython",
    "version": 3
   },
   "file_extension": ".py",
   "mimetype": "text/x-python",
   "name": "python",
   "nbconvert_exporter": "python",
   "pygments_lexer": "ipython3",
   "version": "3.7.9"
  }
 },
 "nbformat": 4,
 "nbformat_minor": 4
}
