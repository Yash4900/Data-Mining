{
 "cells": [
  {
   "cell_type": "markdown",
   "metadata": {},
   "source": [
    "Name: Yash Satra\n",
    "\n",
    "Roll No: 1811109"
   ]
  },
  {
   "cell_type": "markdown",
   "metadata": {},
   "source": [
    "### Importing packages"
   ]
  },
  {
   "cell_type": "code",
   "execution_count": 1,
   "metadata": {},
   "outputs": [],
   "source": [
    "import pandas as pd\n",
    "import numpy as np"
   ]
  },
  {
   "cell_type": "markdown",
   "metadata": {},
   "source": [
    "### Importing dataset"
   ]
  },
  {
   "cell_type": "code",
   "execution_count": 2,
   "metadata": {},
   "outputs": [],
   "source": [
    "df = pd.read_csv('./datasets/heart.csv')"
   ]
  },
  {
   "cell_type": "code",
   "execution_count": 3,
   "metadata": {},
   "outputs": [
    {
     "data": {
      "text/html": [
       "<div>\n",
       "<style scoped>\n",
       "    .dataframe tbody tr th:only-of-type {\n",
       "        vertical-align: middle;\n",
       "    }\n",
       "\n",
       "    .dataframe tbody tr th {\n",
       "        vertical-align: top;\n",
       "    }\n",
       "\n",
       "    .dataframe thead th {\n",
       "        text-align: right;\n",
       "    }\n",
       "</style>\n",
       "<table border=\"1\" class=\"dataframe\">\n",
       "  <thead>\n",
       "    <tr style=\"text-align: right;\">\n",
       "      <th></th>\n",
       "      <th>age</th>\n",
       "      <th>sex</th>\n",
       "      <th>cp</th>\n",
       "      <th>trestbps</th>\n",
       "      <th>chol</th>\n",
       "      <th>fbs</th>\n",
       "      <th>restecg</th>\n",
       "      <th>thalach</th>\n",
       "      <th>exang</th>\n",
       "      <th>oldpeak</th>\n",
       "      <th>slope</th>\n",
       "      <th>ca</th>\n",
       "      <th>thal</th>\n",
       "      <th>target</th>\n",
       "    </tr>\n",
       "  </thead>\n",
       "  <tbody>\n",
       "    <tr>\n",
       "      <th>0</th>\n",
       "      <td>63</td>\n",
       "      <td>1</td>\n",
       "      <td>3</td>\n",
       "      <td>145</td>\n",
       "      <td>233</td>\n",
       "      <td>1</td>\n",
       "      <td>0</td>\n",
       "      <td>150</td>\n",
       "      <td>0</td>\n",
       "      <td>2.3</td>\n",
       "      <td>0</td>\n",
       "      <td>0</td>\n",
       "      <td>1</td>\n",
       "      <td>1</td>\n",
       "    </tr>\n",
       "    <tr>\n",
       "      <th>1</th>\n",
       "      <td>37</td>\n",
       "      <td>1</td>\n",
       "      <td>2</td>\n",
       "      <td>130</td>\n",
       "      <td>250</td>\n",
       "      <td>0</td>\n",
       "      <td>1</td>\n",
       "      <td>187</td>\n",
       "      <td>0</td>\n",
       "      <td>3.5</td>\n",
       "      <td>0</td>\n",
       "      <td>0</td>\n",
       "      <td>2</td>\n",
       "      <td>1</td>\n",
       "    </tr>\n",
       "    <tr>\n",
       "      <th>2</th>\n",
       "      <td>41</td>\n",
       "      <td>0</td>\n",
       "      <td>1</td>\n",
       "      <td>130</td>\n",
       "      <td>204</td>\n",
       "      <td>0</td>\n",
       "      <td>0</td>\n",
       "      <td>172</td>\n",
       "      <td>0</td>\n",
       "      <td>1.4</td>\n",
       "      <td>2</td>\n",
       "      <td>0</td>\n",
       "      <td>2</td>\n",
       "      <td>1</td>\n",
       "    </tr>\n",
       "    <tr>\n",
       "      <th>3</th>\n",
       "      <td>56</td>\n",
       "      <td>1</td>\n",
       "      <td>1</td>\n",
       "      <td>120</td>\n",
       "      <td>236</td>\n",
       "      <td>0</td>\n",
       "      <td>1</td>\n",
       "      <td>178</td>\n",
       "      <td>0</td>\n",
       "      <td>0.8</td>\n",
       "      <td>2</td>\n",
       "      <td>0</td>\n",
       "      <td>2</td>\n",
       "      <td>1</td>\n",
       "    </tr>\n",
       "    <tr>\n",
       "      <th>4</th>\n",
       "      <td>57</td>\n",
       "      <td>0</td>\n",
       "      <td>0</td>\n",
       "      <td>120</td>\n",
       "      <td>354</td>\n",
       "      <td>0</td>\n",
       "      <td>1</td>\n",
       "      <td>163</td>\n",
       "      <td>1</td>\n",
       "      <td>0.6</td>\n",
       "      <td>2</td>\n",
       "      <td>0</td>\n",
       "      <td>2</td>\n",
       "      <td>1</td>\n",
       "    </tr>\n",
       "  </tbody>\n",
       "</table>\n",
       "</div>"
      ],
      "text/plain": [
       "   age  sex  cp  trestbps  chol  fbs  restecg  thalach  exang  oldpeak  slope  \\\n",
       "0   63    1   3       145   233    1        0      150      0      2.3      0   \n",
       "1   37    1   2       130   250    0        1      187      0      3.5      0   \n",
       "2   41    0   1       130   204    0        0      172      0      1.4      2   \n",
       "3   56    1   1       120   236    0        1      178      0      0.8      2   \n",
       "4   57    0   0       120   354    0        1      163      1      0.6      2   \n",
       "\n",
       "   ca  thal  target  \n",
       "0   0     1       1  \n",
       "1   0     2       1  \n",
       "2   0     2       1  \n",
       "3   0     2       1  \n",
       "4   0     2       1  "
      ]
     },
     "execution_count": 3,
     "metadata": {},
     "output_type": "execute_result"
    }
   ],
   "source": [
    "df.head()"
   ]
  },
  {
   "cell_type": "code",
   "execution_count": 4,
   "metadata": {},
   "outputs": [
    {
     "data": {
      "text/plain": [
       "(303, 14)"
      ]
     },
     "execution_count": 4,
     "metadata": {},
     "output_type": "execute_result"
    }
   ],
   "source": [
    "df.shape"
   ]
  },
  {
   "cell_type": "markdown",
   "metadata": {},
   "source": [
    "The target column is the label\n",
    "\n",
    "1 - Person has heart disease\n",
    "0 - Person doesn't have heart disease "
   ]
  },
  {
   "cell_type": "markdown",
   "metadata": {},
   "source": [
    "### Checking if there are any null values in any column"
   ]
  },
  {
   "cell_type": "code",
   "execution_count": 5,
   "metadata": {},
   "outputs": [
    {
     "name": "stdout",
     "output_type": "stream",
     "text": [
      "[0, 0, 0, 0, 0, 0, 0, 0, 0, 0, 0, 0]\n"
     ]
    }
   ],
   "source": [
    "num_of_vull_vals = []\n",
    "for cols in df.columns[1:-1]:\n",
    "    num_of_vull_vals.append(df[cols].isnull().sum())\n",
    "print(num_of_vull_vals)"
   ]
  },
  {
   "cell_type": "markdown",
   "metadata": {},
   "source": [
    "There are no null values"
   ]
  },
  {
   "cell_type": "markdown",
   "metadata": {},
   "source": [
    "### Separating features and label"
   ]
  },
  {
   "cell_type": "code",
   "execution_count": 6,
   "metadata": {},
   "outputs": [
    {
     "name": "stdout",
     "output_type": "stream",
     "text": [
      "[[63.  1.  3. ...  0.  0.  1.]\n",
      " [37.  1.  2. ...  0.  0.  2.]\n",
      " [41.  0.  1. ...  2.  0.  2.]\n",
      " ...\n",
      " [68.  1.  0. ...  1.  2.  3.]\n",
      " [57.  1.  0. ...  1.  1.  3.]\n",
      " [57.  0.  1. ...  1.  1.  2.]]\n",
      "[1 1 1 1 1 1 1 1 1 1 1 1 1 1 1 1 1 1 1 1 1 1 1 1 1 1 1 1 1 1 1 1 1 1 1 1 1\n",
      " 1 1 1 1 1 1 1 1 1 1 1 1 1 1 1 1 1 1 1 1 1 1 1 1 1 1 1 1 1 1 1 1 1 1 1 1 1\n",
      " 1 1 1 1 1 1 1 1 1 1 1 1 1 1 1 1 1 1 1 1 1 1 1 1 1 1 1 1 1 1 1 1 1 1 1 1 1\n",
      " 1 1 1 1 1 1 1 1 1 1 1 1 1 1 1 1 1 1 1 1 1 1 1 1 1 1 1 1 1 1 1 1 1 1 1 1 1\n",
      " 1 1 1 1 1 1 1 1 1 1 1 1 1 1 1 1 1 0 0 0 0 0 0 0 0 0 0 0 0 0 0 0 0 0 0 0 0\n",
      " 0 0 0 0 0 0 0 0 0 0 0 0 0 0 0 0 0 0 0 0 0 0 0 0 0 0 0 0 0 0 0 0 0 0 0 0 0\n",
      " 0 0 0 0 0 0 0 0 0 0 0 0 0 0 0 0 0 0 0 0 0 0 0 0 0 0 0 0 0 0 0 0 0 0 0 0 0\n",
      " 0 0 0 0 0 0 0 0 0 0 0 0 0 0 0 0 0 0 0 0 0 0 0 0 0 0 0 0 0 0 0 0 0 0 0 0 0\n",
      " 0 0 0 0 0 0 0]\n"
     ]
    }
   ],
   "source": [
    "x = df.loc[:, 'age':'thal'].values\n",
    "print(x)\n",
    "\n",
    "y = df['target'].values\n",
    "print(y)"
   ]
  },
  {
   "cell_type": "markdown",
   "metadata": {},
   "source": [
    "### Splitting training and testing data"
   ]
  },
  {
   "cell_type": "code",
   "execution_count": 7,
   "metadata": {},
   "outputs": [],
   "source": [
    "from sklearn.model_selection import train_test_split\n",
    "x_train, x_test, y_train, y_test = train_test_split(x, y, test_size = 0.25, random_state = 0)"
   ]
  },
  {
   "cell_type": "code",
   "execution_count": 8,
   "metadata": {},
   "outputs": [
    {
     "data": {
      "text/plain": [
       "GaussianNB()"
      ]
     },
     "execution_count": 8,
     "metadata": {},
     "output_type": "execute_result"
    }
   ],
   "source": [
    "from sklearn.naive_bayes import GaussianNB\n",
    "classifier = GaussianNB()\n",
    "classifier.fit(x_train, y_train)"
   ]
  },
  {
   "cell_type": "code",
   "execution_count": 9,
   "metadata": {},
   "outputs": [],
   "source": [
    "y_pred_test = classifier.predict(x_test)"
   ]
  },
  {
   "cell_type": "code",
   "execution_count": 10,
   "metadata": {},
   "outputs": [
    {
     "name": "stdout",
     "output_type": "stream",
     "text": [
      "[[0 0]\n",
      " [1 1]\n",
      " [1 0]\n",
      " [0 0]\n",
      " [0 1]\n",
      " [1 0]\n",
      " [0 0]\n",
      " [0 0]\n",
      " [0 0]\n",
      " [0 0]\n",
      " [1 1]\n",
      " [1 1]\n",
      " [0 0]\n",
      " [1 1]\n",
      " [1 1]\n",
      " [1 1]\n",
      " [0 1]\n",
      " [1 1]\n",
      " [0 0]\n",
      " [1 1]\n",
      " [1 1]\n",
      " [1 0]\n",
      " [0 0]\n",
      " [0 0]\n",
      " [1 1]\n",
      " [0 0]\n",
      " [0 0]\n",
      " [1 0]\n",
      " [1 1]\n",
      " [1 1]\n",
      " [0 0]\n",
      " [0 0]\n",
      " [1 1]\n",
      " [1 1]\n",
      " [1 1]\n",
      " [0 0]\n",
      " [0 0]\n",
      " [1 1]\n",
      " [0 0]\n",
      " [0 0]\n",
      " [1 1]\n",
      " [1 1]\n",
      " [0 1]\n",
      " [0 0]\n",
      " [1 1]\n",
      " [1 1]\n",
      " [1 1]\n",
      " [1 0]\n",
      " [0 0]\n",
      " [1 1]\n",
      " [1 1]\n",
      " [1 1]\n",
      " [1 1]\n",
      " [1 1]\n",
      " [1 1]\n",
      " [0 0]\n",
      " [1 1]\n",
      " [1 0]\n",
      " [1 1]\n",
      " [1 1]\n",
      " [1 1]\n",
      " [1 1]\n",
      " [1 1]\n",
      " [1 1]\n",
      " [1 0]\n",
      " [1 0]\n",
      " [1 0]\n",
      " [0 0]\n",
      " [1 1]\n",
      " [1 1]\n",
      " [0 1]\n",
      " [1 1]\n",
      " [1 1]\n",
      " [0 0]\n",
      " [0 0]\n",
      " [1 1]]\n"
     ]
    }
   ],
   "source": [
    "print(np.concatenate((y_pred_test.reshape(len(y_pred_test),1), y_test.reshape(len(y_test),1)),1))"
   ]
  },
  {
   "cell_type": "markdown",
   "metadata": {},
   "source": [
    "### Finding accuracy for testing data"
   ]
  },
  {
   "cell_type": "code",
   "execution_count": 11,
   "metadata": {},
   "outputs": [
    {
     "name": "stdout",
     "output_type": "stream",
     "text": [
      "Accuracy:  0.8289473684210527\n",
      "              precision    recall  f1-score   support\n",
      "\n",
      "           0       0.86      0.73      0.79        33\n",
      "           1       0.81      0.91      0.86        43\n",
      "\n",
      "    accuracy                           0.83        76\n",
      "   macro avg       0.83      0.82      0.82        76\n",
      "weighted avg       0.83      0.83      0.83        76\n",
      "\n"
     ]
    }
   ],
   "source": [
    "from sklearn.metrics import accuracy_score, classification_report\n",
    "print('Accuracy: ', accuracy_score(y_test, y_pred_test))\n",
    "print(classification_report(y_test, y_pred_test))"
   ]
  },
  {
   "cell_type": "markdown",
   "metadata": {},
   "source": [
    "### Finding accuracy for training data"
   ]
  },
  {
   "cell_type": "code",
   "execution_count": 12,
   "metadata": {},
   "outputs": [
    {
     "name": "stdout",
     "output_type": "stream",
     "text": [
      "Accuracy:  0.8546255506607929\n",
      "              precision    recall  f1-score   support\n",
      "\n",
      "           0       0.87      0.81      0.84       105\n",
      "           1       0.84      0.89      0.87       122\n",
      "\n",
      "    accuracy                           0.85       227\n",
      "   macro avg       0.86      0.85      0.85       227\n",
      "weighted avg       0.86      0.85      0.85       227\n",
      "\n"
     ]
    }
   ],
   "source": [
    "y_pred_train = classifier.predict(x_train)\n",
    "print('Accuracy: ', accuracy_score(y_train, y_pred_train))\n",
    "print(classification_report(y_train, y_pred_train))"
   ]
  },
  {
   "cell_type": "markdown",
   "metadata": {},
   "source": [
    "### Interpretation:\n",
    "The accuracy is only slightly more for the train data. Hence there is no overfitting."
   ]
  },
  {
   "cell_type": "markdown",
   "metadata": {},
   "source": [
    "## Decision Tree Classifier"
   ]
  },
  {
   "cell_type": "code",
   "execution_count": 13,
   "metadata": {},
   "outputs": [
    {
     "data": {
      "text/plain": [
       "DecisionTreeClassifier(random_state=0)"
      ]
     },
     "execution_count": 13,
     "metadata": {},
     "output_type": "execute_result"
    }
   ],
   "source": [
    "from sklearn.tree import DecisionTreeClassifier\n",
    "cl = DecisionTreeClassifier(random_state = 0)\n",
    "cl.fit(x_train, y_train)"
   ]
  },
  {
   "cell_type": "code",
   "execution_count": 14,
   "metadata": {},
   "outputs": [],
   "source": [
    "y_pred_test = cl.predict(x_test)"
   ]
  },
  {
   "cell_type": "code",
   "execution_count": 15,
   "metadata": {},
   "outputs": [
    {
     "name": "stdout",
     "output_type": "stream",
     "text": [
      "[[0 0]\n",
      " [1 1]\n",
      " [1 0]\n",
      " [0 0]\n",
      " [0 1]\n",
      " [1 0]\n",
      " [0 0]\n",
      " [0 0]\n",
      " [0 0]\n",
      " [0 0]\n",
      " [1 1]\n",
      " [1 1]\n",
      " [0 0]\n",
      " [1 1]\n",
      " [1 1]\n",
      " [1 1]\n",
      " [0 1]\n",
      " [1 1]\n",
      " [0 0]\n",
      " [1 1]\n",
      " [1 1]\n",
      " [0 0]\n",
      " [0 0]\n",
      " [0 0]\n",
      " [0 1]\n",
      " [1 0]\n",
      " [0 0]\n",
      " [0 0]\n",
      " [1 1]\n",
      " [1 1]\n",
      " [0 0]\n",
      " [0 0]\n",
      " [1 1]\n",
      " [1 1]\n",
      " [1 1]\n",
      " [1 0]\n",
      " [0 0]\n",
      " [1 1]\n",
      " [0 0]\n",
      " [0 0]\n",
      " [1 1]\n",
      " [0 1]\n",
      " [1 1]\n",
      " [0 0]\n",
      " [1 1]\n",
      " [0 1]\n",
      " [1 1]\n",
      " [1 0]\n",
      " [0 0]\n",
      " [1 1]\n",
      " [1 1]\n",
      " [1 1]\n",
      " [1 1]\n",
      " [1 1]\n",
      " [1 1]\n",
      " [0 0]\n",
      " [1 1]\n",
      " [1 0]\n",
      " [0 1]\n",
      " [1 1]\n",
      " [1 1]\n",
      " [1 1]\n",
      " [1 1]\n",
      " [1 1]\n",
      " [1 0]\n",
      " [1 0]\n",
      " [1 0]\n",
      " [0 0]\n",
      " [1 1]\n",
      " [1 1]\n",
      " [1 1]\n",
      " [1 1]\n",
      " [1 1]\n",
      " [0 0]\n",
      " [0 0]\n",
      " [0 1]]\n"
     ]
    }
   ],
   "source": [
    "print(np.concatenate((y_pred_test.reshape(len(y_pred_test),1), y_test.reshape(len(y_test),1)),1))"
   ]
  },
  {
   "cell_type": "markdown",
   "metadata": {},
   "source": [
    "### Finding accuracy for testing data"
   ]
  },
  {
   "cell_type": "code",
   "execution_count": 16,
   "metadata": {},
   "outputs": [
    {
     "name": "stdout",
     "output_type": "stream",
     "text": [
      "Accuracy:  0.7894736842105263\n",
      "              precision    recall  f1-score   support\n",
      "\n",
      "           0       0.77      0.73      0.75        33\n",
      "           1       0.80      0.84      0.82        43\n",
      "\n",
      "    accuracy                           0.79        76\n",
      "   macro avg       0.79      0.78      0.78        76\n",
      "weighted avg       0.79      0.79      0.79        76\n",
      "\n"
     ]
    }
   ],
   "source": [
    "print('Accuracy: ', accuracy_score(y_test, y_pred_test))\n",
    "print(classification_report(y_test, y_pred_test))"
   ]
  },
  {
   "cell_type": "markdown",
   "metadata": {},
   "source": [
    "### Finding accuracy for training data"
   ]
  },
  {
   "cell_type": "code",
   "execution_count": 17,
   "metadata": {},
   "outputs": [
    {
     "name": "stdout",
     "output_type": "stream",
     "text": [
      "Accuracy:  1.0\n",
      "              precision    recall  f1-score   support\n",
      "\n",
      "           0       1.00      1.00      1.00       105\n",
      "           1       1.00      1.00      1.00       122\n",
      "\n",
      "    accuracy                           1.00       227\n",
      "   macro avg       1.00      1.00      1.00       227\n",
      "weighted avg       1.00      1.00      1.00       227\n",
      "\n"
     ]
    }
   ],
   "source": [
    "y_pred_train = cl.predict(x_train)\n",
    "print('Accuracy: ', accuracy_score(y_train, y_pred_train))\n",
    "print(classification_report(y_train, y_pred_train))"
   ]
  },
  {
   "cell_type": "markdown",
   "metadata": {},
   "source": [
    "### Interpretation:\n",
    "The accuracy is comparitively large for the train data. Hence there is overfitting."
   ]
  },
  {
   "cell_type": "markdown",
   "metadata": {},
   "source": [
    "### Plotting decision tree"
   ]
  },
  {
   "cell_type": "code",
   "execution_count": 18,
   "metadata": {},
   "outputs": [
    {
     "name": "stdout",
     "output_type": "stream",
     "text": [
      "[Text(160.425, 195.696, 'X[2] <= 0.5\\ngini = 0.497\\nsamples = 227\\nvalue = [105, 122]'), Text(90.67500000000001, 152.208, 'X[11] <= 0.5\\ngini = 0.397\\nsamples = 110\\nvalue = [80, 30]'), Text(55.800000000000004, 108.72, 'X[12] <= 2.5\\ngini = 0.497\\nsamples = 50\\nvalue = [23, 27]'), Text(27.900000000000002, 65.232, 'X[7] <= 119.5\\ngini = 0.358\\nsamples = 30\\nvalue = [7, 23]'), Text(13.950000000000001, 21.744, '\\n  (...)  \\n'), Text(41.85, 21.744, '\\n  (...)  \\n'), Text(83.7, 65.232, 'X[9] <= 0.6\\ngini = 0.32\\nsamples = 20\\nvalue = [16, 4]'), Text(69.75, 21.744, '\\n  (...)  \\n'), Text(97.65, 21.744, '\\n  (...)  \\n'), Text(125.55000000000001, 108.72, 'X[0] <= 63.5\\ngini = 0.095\\nsamples = 60\\nvalue = [57, 3]'), Text(111.60000000000001, 65.232, 'gini = 0.0\\nsamples = 45\\nvalue = [45, 0]'), Text(139.5, 65.232, 'X[6] <= 0.5\\ngini = 0.32\\nsamples = 15\\nvalue = [12, 3]'), Text(125.55000000000001, 21.744, '\\n  (...)  \\n'), Text(153.45000000000002, 21.744, '\\n  (...)  \\n'), Text(230.175, 152.208, 'X[1] <= 0.5\\ngini = 0.336\\nsamples = 117\\nvalue = [25, 92]'), Text(181.35000000000002, 108.72, 'X[11] <= 1.5\\ngini = 0.043\\nsamples = 45\\nvalue = [1, 44]'), Text(167.4, 65.232, 'gini = 0.0\\nsamples = 41\\nvalue = [0, 41]'), Text(195.3, 65.232, 'X[5] <= 0.5\\ngini = 0.375\\nsamples = 4\\nvalue = [1, 3]'), Text(181.35000000000002, 21.744, '\\n  (...)  \\n'), Text(209.25000000000003, 21.744, '\\n  (...)  \\n'), Text(279.0, 108.72, 'X[7] <= 150.5\\ngini = 0.444\\nsamples = 72\\nvalue = [24, 48]'), Text(251.10000000000002, 65.232, 'X[10] <= 0.5\\ngini = 0.469\\nsamples = 24\\nvalue = [15, 9]'), Text(237.15, 21.744, '\\n  (...)  \\n'), Text(265.05, 21.744, '\\n  (...)  \\n'), Text(306.90000000000003, 65.232, 'X[0] <= 57.5\\ngini = 0.305\\nsamples = 48\\nvalue = [9, 39]'), Text(292.95000000000005, 21.744, '\\n  (...)  \\n'), Text(320.85, 21.744, '\\n  (...)  \\n')]\n"
     ]
    },
    {
     "data": {
      "image/png": "[encoded data removed]",
      "text/plain": [
       "<Figure size 432x288 with 1 Axes>"
      ]
     },
     "metadata": {
      "needs_background": "light"
     },
     "output_type": "display_data"
    }
   ],
   "source": [
    "from sklearn import tree\n",
    "print(tree.plot_tree(cl, max_depth = 3))  "
   ]
  },
  {
   "cell_type": "code",
   "execution_count": 19,
   "metadata": {},
   "outputs": [
    {
     "name": "stdout",
     "output_type": "stream",
     "text": [
      "digraph Tree {\n",
      "node [shape=box] ;\n",
      "0 [label=\"X[2] <= 0.5\\ngini = 0.497\\nsamples = 227\\nvalue = [105, 122]\"] ;\n",
      "1 [label=\"X[11] <= 0.5\\ngini = 0.397\\nsamples = 110\\nvalue = [80, 30]\"] ;\n",
      "0 -> 1 [labeldistance=2.5, labelangle=45, headlabel=\"True\"] ;\n",
      "2 [label=\"X[12] <= 2.5\\ngini = 0.497\\nsamples = 50\\nvalue = [23, 27]\"] ;\n",
      "1 -> 2 ;\n",
      "3 [label=\"X[7] <= 119.5\\ngini = 0.358\\nsamples = 30\\nvalue = [7, 23]\"] ;\n",
      "2 -> 3 ;\n",
      "4 [label=\"gini = 0.0\\nsamples = 2\\nvalue = [2, 0]\"] ;\n",
      "3 -> 4 ;\n",
      "5 [label=\"X[12] <= 1.5\\ngini = 0.293\\nsamples = 28\\nvalue = [5, 23]\"] ;\n",
      "3 -> 5 ;\n",
      "6 [label=\"X[0] <= 54.5\\ngini = 0.48\\nsamples = 5\\nvalue = [3, 2]\"] ;\n",
      "5 -> 6 ;\n",
      "7 [label=\"gini = 0.0\\nsamples = 3\\nvalue = [3, 0]\"] ;\n",
      "6 -> 7 ;\n",
      "8 [label=\"gini = 0.0\\nsamples = 2\\nvalue = [0, 2]\"] ;\n",
      "6 -> 8 ;\n",
      "9 [label=\"X[0] <= 60.0\\ngini = 0.159\\nsamples = 23\\nvalue = [2, 21]\"] ;\n",
      "5 -> 9 ;\n",
      "10 [label=\"gini = 0.0\\nsamples = 16\\nvalue = [0, 16]\"] ;\n",
      "9 -> 10 ;\n",
      "11 [label=\"X[7] <= 166.0\\ngini = 0.408\\nsamples = 7\\nvalue = [2, 5]\"] ;\n",
      "9 -> 11 ;\n",
      "12 [label=\"X[3] <= 145.0\\ngini = 0.278\\nsamples = 6\\nvalue = [1, 5]\"] ;\n",
      "11 -> 12 ;\n",
      "13 [label=\"gini = 0.0\\nsamples = 4\\nvalue = [0, 4]\"] ;\n",
      "12 -> 13 ;\n",
      "14 [label=\"X[3] <= 165.0\\ngini = 0.5\\nsamples = 2\\nvalue = [1, 1]\"] ;\n",
      "12 -> 14 ;\n",
      "15 [label=\"gini = 0.0\\nsamples = 1\\nvalue = [1, 0]\"] ;\n",
      "14 -> 15 ;\n",
      "16 [label=\"gini = 0.0\\nsamples = 1\\nvalue = [0, 1]\"] ;\n",
      "14 -> 16 ;\n",
      "17 [label=\"gini = 0.0\\nsamples = 1\\nvalue = [1, 0]\"] ;\n",
      "11 -> 17 ;\n",
      "18 [label=\"X[9] <= 0.6\\ngini = 0.32\\nsamples = 20\\nvalue = [16, 4]\"] ;\n",
      "2 -> 18 ;\n",
      "19 [label=\"X[0] <= 42.0\\ngini = 0.5\\nsamples = 8\\nvalue = [4, 4]\"] ;\n",
      "18 -> 19 ;\n",
      "20 [label=\"gini = 0.0\\nsamples = 3\\nvalue = [3, 0]\"] ;\n",
      "19 -> 20 ;\n",
      "21 [label=\"X[1] <= 0.5\\ngini = 0.32\\nsamples = 5\\nvalue = [1, 4]\"] ;\n",
      "19 -> 21 ;\n",
      "22 [label=\"gini = 0.0\\nsamples = 1\\nvalue = [1, 0]\"] ;\n",
      "21 -> 22 ;\n",
      "23 [label=\"gini = 0.0\\nsamples = 4\\nvalue = [0, 4]\"] ;\n",
      "21 -> 23 ;\n",
      "24 [label=\"gini = 0.0\\nsamples = 12\\nvalue = [12, 0]\"] ;\n",
      "18 -> 24 ;\n",
      "25 [label=\"X[0] <= 63.5\\ngini = 0.095\\nsamples = 60\\nvalue = [57, 3]\"] ;\n",
      "1 -> 25 ;\n",
      "26 [label=\"gini = 0.0\\nsamples = 45\\nvalue = [45, 0]\"] ;\n",
      "25 -> 26 ;\n",
      "27 [label=\"X[6] <= 0.5\\ngini = 0.32\\nsamples = 15\\nvalue = [12, 3]\"] ;\n",
      "25 -> 27 ;\n",
      "28 [label=\"gini = 0.0\\nsamples = 9\\nvalue = [9, 0]\"] ;\n",
      "27 -> 28 ;\n",
      "29 [label=\"X[5] <= 0.5\\ngini = 0.5\\nsamples = 6\\nvalue = [3, 3]\"] ;\n",
      "27 -> 29 ;\n",
      "30 [label=\"gini = 0.0\\nsamples = 3\\nvalue = [0, 3]\"] ;\n",
      "29 -> 30 ;\n",
      "31 [label=\"gini = 0.0\\nsamples = 3\\nvalue = [3, 0]\"] ;\n",
      "29 -> 31 ;\n",
      "32 [label=\"X[1] <= 0.5\\ngini = 0.336\\nsamples = 117\\nvalue = [25, 92]\"] ;\n",
      "0 -> 32 [labeldistance=2.5, labelangle=-45, headlabel=\"False\"] ;\n",
      "33 [label=\"X[11] <= 1.5\\ngini = 0.043\\nsamples = 45\\nvalue = [1, 44]\"] ;\n",
      "32 -> 33 ;\n",
      "34 [label=\"gini = 0.0\\nsamples = 41\\nvalue = [0, 41]\"] ;\n",
      "33 -> 34 ;\n",
      "35 [label=\"X[5] <= 0.5\\ngini = 0.375\\nsamples = 4\\nvalue = [1, 3]\"] ;\n",
      "33 -> 35 ;\n",
      "36 [label=\"gini = 0.0\\nsamples = 3\\nvalue = [0, 3]\"] ;\n",
      "35 -> 36 ;\n",
      "37 [label=\"gini = 0.0\\nsamples = 1\\nvalue = [1, 0]\"] ;\n",
      "35 -> 37 ;\n",
      "38 [label=\"X[7] <= 150.5\\ngini = 0.444\\nsamples = 72\\nvalue = [24, 48]\"] ;\n",
      "32 -> 38 ;\n",
      "39 [label=\"X[10] <= 0.5\\ngini = 0.469\\nsamples = 24\\nvalue = [15, 9]\"] ;\n",
      "38 -> 39 ;\n",
      "40 [label=\"gini = 0.0\\nsamples = 2\\nvalue = [0, 2]\"] ;\n",
      "39 -> 40 ;\n",
      "41 [label=\"X[9] <= 0.5\\ngini = 0.434\\nsamples = 22\\nvalue = [15, 7]\"] ;\n",
      "39 -> 41 ;\n",
      "42 [label=\"X[4] <= 224.5\\ngini = 0.494\\nsamples = 9\\nvalue = [4, 5]\"] ;\n",
      "41 -> 42 ;\n",
      "43 [label=\"gini = 0.0\\nsamples = 3\\nvalue = [0, 3]\"] ;\n",
      "42 -> 43 ;\n",
      "44 [label=\"X[0] <= 55.5\\ngini = 0.444\\nsamples = 6\\nvalue = [4, 2]\"] ;\n",
      "42 -> 44 ;\n",
      "45 [label=\"gini = 0.0\\nsamples = 1\\nvalue = [0, 1]\"] ;\n",
      "44 -> 45 ;\n",
      "46 [label=\"X[5] <= 0.5\\ngini = 0.32\\nsamples = 5\\nvalue = [4, 1]\"] ;\n",
      "44 -> 46 ;\n",
      "47 [label=\"gini = 0.0\\nsamples = 4\\nvalue = [4, 0]\"] ;\n",
      "46 -> 47 ;\n",
      "48 [label=\"gini = 0.0\\nsamples = 1\\nvalue = [0, 1]\"] ;\n",
      "46 -> 48 ;\n",
      "49 [label=\"X[8] <= 0.5\\ngini = 0.26\\nsamples = 13\\nvalue = [11, 2]\"] ;\n",
      "41 -> 49 ;\n",
      "50 [label=\"gini = 0.0\\nsamples = 8\\nvalue = [8, 0]\"] ;\n",
      "49 -> 50 ;\n",
      "51 [label=\"X[4] <= 249.5\\ngini = 0.48\\nsamples = 5\\nvalue = [3, 2]\"] ;\n",
      "49 -> 51 ;\n",
      "52 [label=\"gini = 0.0\\nsamples = 2\\nvalue = [0, 2]\"] ;\n",
      "51 -> 52 ;\n",
      "53 [label=\"gini = 0.0\\nsamples = 3\\nvalue = [3, 0]\"] ;\n",
      "51 -> 53 ;\n",
      "54 [label=\"X[0] <= 57.5\\ngini = 0.305\\nsamples = 48\\nvalue = [9, 39]\"] ;\n",
      "38 -> 54 ;\n",
      "55 [label=\"X[3] <= 172.0\\ngini = 0.18\\nsamples = 40\\nvalue = [4, 36]\"] ;\n",
      "54 -> 55 ;\n",
      "56 [label=\"X[9] <= 3.65\\ngini = 0.142\\nsamples = 39\\nvalue = [3, 36]\"] ;\n",
      "55 -> 56 ;\n",
      "57 [label=\"X[3] <= 111.0\\ngini = 0.1\\nsamples = 38\\nvalue = [2, 36]\"] ;\n",
      "56 -> 57 ;\n",
      "58 [label=\"X[3] <= 104.5\\ngini = 0.48\\nsamples = 5\\nvalue = [2, 3]\"] ;\n",
      "57 -> 58 ;\n",
      "59 [label=\"gini = 0.0\\nsamples = 2\\nvalue = [0, 2]\"] ;\n",
      "58 -> 59 ;\n",
      "60 [label=\"X[0] <= 51.0\\ngini = 0.444\\nsamples = 3\\nvalue = [2, 1]\"] ;\n",
      "58 -> 60 ;\n",
      "61 [label=\"gini = 0.0\\nsamples = 2\\nvalue = [2, 0]\"] ;\n",
      "60 -> 61 ;\n",
      "62 [label=\"gini = 0.0\\nsamples = 1\\nvalue = [0, 1]\"] ;\n",
      "60 -> 62 ;\n",
      "63 [label=\"gini = 0.0\\nsamples = 33\\nvalue = [0, 33]\"] ;\n",
      "57 -> 63 ;\n",
      "64 [label=\"gini = 0.0\\nsamples = 1\\nvalue = [1, 0]\"] ;\n",
      "56 -> 64 ;\n",
      "65 [label=\"gini = 0.0\\nsamples = 1\\nvalue = [1, 0]\"] ;\n",
      "55 -> 65 ;\n",
      "66 [label=\"X[9] <= 1.2\\ngini = 0.469\\nsamples = 8\\nvalue = [5, 3]\"] ;\n",
      "54 -> 66 ;\n",
      "67 [label=\"X[4] <= 306.0\\ngini = 0.375\\nsamples = 4\\nvalue = [1, 3]\"] ;\n",
      "66 -> 67 ;\n",
      "68 [label=\"gini = 0.0\\nsamples = 3\\nvalue = [0, 3]\"] ;\n",
      "67 -> 68 ;\n",
      "69 [label=\"gini = 0.0\\nsamples = 1\\nvalue = [1, 0]\"] ;\n",
      "67 -> 69 ;\n",
      "70 [label=\"gini = 0.0\\nsamples = 4\\nvalue = [4, 0]\"] ;\n",
      "66 -> 70 ;\n",
      "}\n"
     ]
    }
   ],
   "source": [
    "# tree.export_graphviz\n",
    "# tree_export_text  in python.\n",
    "print(tree.export_graphviz(cl))"
   ]
  },
  {
   "cell_type": "code",
   "execution_count": 20,
   "metadata": {},
   "outputs": [],
   "source": [
    "test = pd.read_csv('./datasets/CrashTest_TestData.csv')\n",
    "train = pd.read_csv('./datasets/CrashTest_TrainData.csv')"
   ]
  },
  {
   "cell_type": "code",
   "execution_count": 22,
   "metadata": {
    "scrolled": true
   },
   "outputs": [
    {
     "data": {
      "text/html": [
       "<div>\n",
       "<style scoped>\n",
       "    .dataframe tbody tr th:only-of-type {\n",
       "        vertical-align: middle;\n",
       "    }\n",
       "\n",
       "    .dataframe tbody tr th {\n",
       "        vertical-align: top;\n",
       "    }\n",
       "\n",
       "    .dataframe thead th {\n",
       "        text-align: right;\n",
       "    }\n",
       "</style>\n",
       "<table border=\"1\" class=\"dataframe\">\n",
       "  <thead>\n",
       "    <tr style=\"text-align: right;\">\n",
       "      <th></th>\n",
       "      <th>CarID</th>\n",
       "      <th>ManHI</th>\n",
       "      <th>ManBI</th>\n",
       "      <th>IntI</th>\n",
       "      <th>HVACi</th>\n",
       "      <th>Safety</th>\n",
       "      <th>CarType</th>\n",
       "    </tr>\n",
       "  </thead>\n",
       "  <tbody>\n",
       "    <tr>\n",
       "      <th>0</th>\n",
       "      <td>1</td>\n",
       "      <td>-5.27</td>\n",
       "      <td>-1.30</td>\n",
       "      <td>2.86</td>\n",
       "      <td>-4.85</td>\n",
       "      <td>4.04</td>\n",
       "      <td>SUV</td>\n",
       "    </tr>\n",
       "    <tr>\n",
       "      <th>1</th>\n",
       "      <td>2</td>\n",
       "      <td>-4.82</td>\n",
       "      <td>-5.38</td>\n",
       "      <td>9.72</td>\n",
       "      <td>-0.97</td>\n",
       "      <td>-4.57</td>\n",
       "      <td>Hatchback</td>\n",
       "    </tr>\n",
       "    <tr>\n",
       "      <th>2</th>\n",
       "      <td>3</td>\n",
       "      <td>9.57</td>\n",
       "      <td>-7.50</td>\n",
       "      <td>-7.61</td>\n",
       "      <td>1.33</td>\n",
       "      <td>-5.10</td>\n",
       "      <td>Hatchback</td>\n",
       "    </tr>\n",
       "    <tr>\n",
       "      <th>3</th>\n",
       "      <td>4</td>\n",
       "      <td>2.84</td>\n",
       "      <td>-2.85</td>\n",
       "      <td>0.92</td>\n",
       "      <td>5.51</td>\n",
       "      <td>-6.64</td>\n",
       "      <td>Hatchback</td>\n",
       "    </tr>\n",
       "    <tr>\n",
       "      <th>4</th>\n",
       "      <td>5</td>\n",
       "      <td>0.00</td>\n",
       "      <td>2.68</td>\n",
       "      <td>-4.15</td>\n",
       "      <td>0.85</td>\n",
       "      <td>5.58</td>\n",
       "      <td>SUV</td>\n",
       "    </tr>\n",
       "  </tbody>\n",
       "</table>\n",
       "</div>"
      ],
      "text/plain": [
       "   CarID  ManHI  ManBI  IntI  HVACi  Safety    CarType\n",
       "0      1  -5.27  -1.30  2.86  -4.85    4.04        SUV\n",
       "1      2  -4.82  -5.38  9.72  -0.97   -4.57  Hatchback\n",
       "2      3   9.57  -7.50 -7.61   1.33   -5.10  Hatchback\n",
       "3      4   2.84  -2.85  0.92   5.51   -6.64  Hatchback\n",
       "4      5   0.00   2.68 -4.15   0.85    5.58        SUV"
      ]
     },
     "execution_count": 22,
     "metadata": {},
     "output_type": "execute_result"
    }
   ],
   "source": [
    "train.head()"
   ]
  },
  {
   "cell_type": "code",
   "execution_count": 23,
   "metadata": {},
   "outputs": [
    {
     "data": {
      "text/plain": [
       "SUV          10\n",
       "Hatchback    10\n",
       "Name: CarType, dtype: int64"
      ]
     },
     "execution_count": 23,
     "metadata": {},
     "output_type": "execute_result"
    }
   ],
   "source": [
    "test['CarType'].value_counts()"
   ]
  },
  {
   "cell_type": "code",
   "execution_count": 24,
   "metadata": {},
   "outputs": [],
   "source": [
    "train = train.dropna()"
   ]
  },
  {
   "cell_type": "code",
   "execution_count": 25,
   "metadata": {},
   "outputs": [],
   "source": [
    "train.replace('SUV',1,inplace=True)\n",
    "train.replace('Hatchback', 2, inplace=True)"
   ]
  },
  {
   "cell_type": "code",
   "execution_count": 26,
   "metadata": {},
   "outputs": [
    {
     "data": {
      "text/html": [
       "<div>\n",
       "<style scoped>\n",
       "    .dataframe tbody tr th:only-of-type {\n",
       "        vertical-align: middle;\n",
       "    }\n",
       "\n",
       "    .dataframe tbody tr th {\n",
       "        vertical-align: top;\n",
       "    }\n",
       "\n",
       "    .dataframe thead th {\n",
       "        text-align: right;\n",
       "    }\n",
       "</style>\n",
       "<table border=\"1\" class=\"dataframe\">\n",
       "  <thead>\n",
       "    <tr style=\"text-align: right;\">\n",
       "      <th></th>\n",
       "      <th>CarID</th>\n",
       "      <th>ManHI</th>\n",
       "      <th>ManBI</th>\n",
       "      <th>IntI</th>\n",
       "      <th>HVACi</th>\n",
       "      <th>Safety</th>\n",
       "      <th>CarType</th>\n",
       "    </tr>\n",
       "  </thead>\n",
       "  <tbody>\n",
       "    <tr>\n",
       "      <th>0</th>\n",
       "      <td>1</td>\n",
       "      <td>-5.27</td>\n",
       "      <td>-1.30</td>\n",
       "      <td>2.86</td>\n",
       "      <td>-4.85</td>\n",
       "      <td>4.04</td>\n",
       "      <td>1</td>\n",
       "    </tr>\n",
       "    <tr>\n",
       "      <th>1</th>\n",
       "      <td>2</td>\n",
       "      <td>-4.82</td>\n",
       "      <td>-5.38</td>\n",
       "      <td>9.72</td>\n",
       "      <td>-0.97</td>\n",
       "      <td>-4.57</td>\n",
       "      <td>2</td>\n",
       "    </tr>\n",
       "    <tr>\n",
       "      <th>2</th>\n",
       "      <td>3</td>\n",
       "      <td>9.57</td>\n",
       "      <td>-7.50</td>\n",
       "      <td>-7.61</td>\n",
       "      <td>1.33</td>\n",
       "      <td>-5.10</td>\n",
       "      <td>2</td>\n",
       "    </tr>\n",
       "    <tr>\n",
       "      <th>3</th>\n",
       "      <td>4</td>\n",
       "      <td>2.84</td>\n",
       "      <td>-2.85</td>\n",
       "      <td>0.92</td>\n",
       "      <td>5.51</td>\n",
       "      <td>-6.64</td>\n",
       "      <td>2</td>\n",
       "    </tr>\n",
       "    <tr>\n",
       "      <th>4</th>\n",
       "      <td>5</td>\n",
       "      <td>0.00</td>\n",
       "      <td>2.68</td>\n",
       "      <td>-4.15</td>\n",
       "      <td>0.85</td>\n",
       "      <td>5.58</td>\n",
       "      <td>1</td>\n",
       "    </tr>\n",
       "  </tbody>\n",
       "</table>\n",
       "</div>"
      ],
      "text/plain": [
       "   CarID  ManHI  ManBI  IntI  HVACi  Safety  CarType\n",
       "0      1  -5.27  -1.30  2.86  -4.85    4.04        1\n",
       "1      2  -4.82  -5.38  9.72  -0.97   -4.57        2\n",
       "2      3   9.57  -7.50 -7.61   1.33   -5.10        2\n",
       "3      4   2.84  -2.85  0.92   5.51   -6.64        2\n",
       "4      5   0.00   2.68 -4.15   0.85    5.58        1"
      ]
     },
     "execution_count": 26,
     "metadata": {},
     "output_type": "execute_result"
    }
   ],
   "source": [
    "train.head()"
   ]
  },
  {
   "cell_type": "code",
   "execution_count": 27,
   "metadata": {},
   "outputs": [],
   "source": [
    "test.replace('SUV',1,inplace=True)\n",
    "test.replace('Hatchback', 2, inplace=True)"
   ]
  },
  {
   "cell_type": "code",
   "execution_count": 28,
   "metadata": {},
   "outputs": [],
   "source": [
    "x_train = train.loc[:,'CarID':'Safety']\n",
    "y_train = train['CarType']"
   ]
  },
  {
   "cell_type": "code",
   "execution_count": 29,
   "metadata": {},
   "outputs": [
    {
     "data": {
      "text/plain": [
       "GaussianNB()"
      ]
     },
     "execution_count": 29,
     "metadata": {},
     "output_type": "execute_result"
    }
   ],
   "source": [
    "from sklearn.naive_bayes import GaussianNB\n",
    "classifier = GaussianNB()\n",
    "classifier.fit(x_train, y_train)"
   ]
  },
  {
   "cell_type": "code",
   "execution_count": 30,
   "metadata": {},
   "outputs": [],
   "source": [
    "x_test = test.loc[:,'CarID':'Safety']\n",
    "y_test = test['CarType']"
   ]
  },
  {
   "cell_type": "code",
   "execution_count": 31,
   "metadata": {},
   "outputs": [],
   "source": [
    "y_pred_test = classifier.predict(x_test)"
   ]
  },
  {
   "cell_type": "code",
   "execution_count": 32,
   "metadata": {},
   "outputs": [
    {
     "name": "stdout",
     "output_type": "stream",
     "text": [
      "Accuracy:  0.7\n",
      "              precision    recall  f1-score   support\n",
      "\n",
      "           1       1.00      0.40      0.57        10\n",
      "           2       0.62      1.00      0.77        10\n",
      "\n",
      "    accuracy                           0.70        20\n",
      "   macro avg       0.81      0.70      0.67        20\n",
      "weighted avg       0.81      0.70      0.67        20\n",
      "\n"
     ]
    }
   ],
   "source": [
    "from sklearn.metrics import accuracy_score, classification_report\n",
    "print('Accuracy: ', accuracy_score(y_test, y_pred_test))\n",
    "print(classification_report(y_test, y_pred_test))"
   ]
  },
  {
   "cell_type": "code",
   "execution_count": 33,
   "metadata": {},
   "outputs": [
    {
     "data": {
      "text/plain": [
       "DecisionTreeClassifier(random_state=0)"
      ]
     },
     "execution_count": 33,
     "metadata": {},
     "output_type": "execute_result"
    }
   ],
   "source": [
    "from sklearn.tree import DecisionTreeClassifier\n",
    "cl = DecisionTreeClassifier(random_state = 0)\n",
    "cl.fit(x_train, y_train)"
   ]
  },
  {
   "cell_type": "code",
   "execution_count": 34,
   "metadata": {},
   "outputs": [],
   "source": [
    "y_pred_test = cl.predict(x_test)"
   ]
  },
  {
   "cell_type": "code",
   "execution_count": 36,
   "metadata": {},
   "outputs": [
    {
     "name": "stdout",
     "output_type": "stream",
     "text": [
      "Accuracy:  0.85\n",
      "              precision    recall  f1-score   support\n",
      "\n",
      "           1       1.00      0.70      0.82        10\n",
      "           2       0.77      1.00      0.87        10\n",
      "\n",
      "    accuracy                           0.85        20\n",
      "   macro avg       0.88      0.85      0.85        20\n",
      "weighted avg       0.88      0.85      0.85        20\n",
      "\n"
     ]
    }
   ],
   "source": [
    "from sklearn.metrics import accuracy_score, classification_report\n",
    "print('Accuracy: ', accuracy_score(y_test, y_pred_test))\n",
    "print(classification_report(y_test, y_pred_test))"
   ]
  },
  {
   "cell_type": "code",
   "execution_count": null,
   "metadata": {},
   "outputs": [],
   "source": []
  }
 ],
 "metadata": {
  "kernelspec": {
   "display_name": "Python 3",
   "language": "python",
   "name": "python3"
  },
  "language_info": {
   "codemirror_mode": {
    "name": "ipython",
    "version": 3
   },
   "file_extension": ".py",
   "mimetype": "text/x-python",
   "name": "python",
   "nbconvert_exporter": "python",
   "pygments_lexer": "ipython3",
   "version": "3.7.9"
  }
 },
 "nbformat": 4,
 "nbformat_minor": 4
}
