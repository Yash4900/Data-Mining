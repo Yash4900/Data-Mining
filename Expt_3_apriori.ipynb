{
 "cells": [
  {
   "cell_type": "markdown",
   "metadata": {
    "id": "1fziHl7Ar94J"
   },
   "source": [
    "# Apriori"
   ]
  },
  {
   "cell_type": "markdown",
   "metadata": {
    "id": "eiNwni1xsEgT"
   },
   "source": [
    "## Importing the libraries"
   ]
  },
  {
   "cell_type": "code",
   "execution_count": 4,
   "metadata": {
    "colab": {
     "base_uri": "https://localhost:8080/"
    },
    "id": "DUF77Qr1vqyM",
    "outputId": "086dc3f7-0f2f-4d47-b8c9-e688b17ac63b"
   },
   "outputs": [
    {
     "name": "stdout",
     "output_type": "stream",
     "text": [
      "Requirement already satisfied: apyori in /usr/local/lib/python3.7/dist-packages (1.1.2)\n"
     ]
    }
   ],
   "source": [
    "!pip install apyori\n"
   ]
  },
  {
   "cell_type": "code",
   "execution_count": 5,
   "metadata": {
    "id": "UJfitBClsJlT"
   },
   "outputs": [],
   "source": [
    "import numpy as np\n",
    "import matplotlib.pyplot as plt\n",
    "import pandas as pd"
   ]
  },
  {
   "cell_type": "markdown",
   "metadata": {
    "id": "vLt-7XUKsXBd"
   },
   "source": [
    "## Data Preprocessing"
   ]
  },
  {
   "cell_type": "code",
   "execution_count": 14,
   "metadata": {
    "colab": {
     "base_uri": "https://localhost:8080/"
    },
    "id": "J_A-UFOAsaDf",
    "outputId": "58c1edc3-5391-4ceb-9420-0a69f0ca134e"
   },
   "outputs": [
    {
     "name": "stdout",
     "output_type": "stream",
     "text": [
      "(7501, 20)\n"
     ]
    }
   ],
   "source": [
    "dataset = pd.read_csv('Market_Basket_Optimisation.csv', header = None)\n",
    "print(dataset.shape)\n",
    "transactions = []\n",
    "for i in range(0, 7501):\n",
    "     transactions.append([str(dataset.values[i,j]) for j in range(0, 20)])\n",
    "\n",
    "\n"
   ]
  },
  {
   "cell_type": "markdown",
   "metadata": {
    "id": "1wYZdBd5sea_"
   },
   "source": [
    "## Training the Apriori model on the dataset"
   ]
  },
  {
   "cell_type": "code",
   "execution_count": 1,
   "metadata": {
    "id": "YzIk4vXZsj5i"
   },
   "outputs": [
    {
     "ename": "NameError",
     "evalue": "name 'transactions' is not defined",
     "output_type": "error",
     "traceback": [
      "\u001b[1;31m---------------------------------------------------------------------------\u001b[0m",
      "\u001b[1;31mNameError\u001b[0m                                 Traceback (most recent call last)",
      "\u001b[1;32m<ipython-input-1-209693f664e1>\u001b[0m in \u001b[0;36m<module>\u001b[1;34m\u001b[0m\n\u001b[0;32m      1\u001b[0m \u001b[1;32mfrom\u001b[0m \u001b[0mapyori\u001b[0m \u001b[1;32mimport\u001b[0m \u001b[0mapriori\u001b[0m\u001b[1;33m\u001b[0m\u001b[1;33m\u001b[0m\u001b[0m\n\u001b[1;32m----> 2\u001b[1;33m \u001b[0mrules\u001b[0m \u001b[1;33m=\u001b[0m \u001b[0mapriori\u001b[0m\u001b[1;33m(\u001b[0m\u001b[0mtransactions\u001b[0m \u001b[1;33m=\u001b[0m \u001b[0mtransactions\u001b[0m\u001b[1;33m,\u001b[0m \u001b[0mmin_support\u001b[0m \u001b[1;33m=\u001b[0m \u001b[1;36m0.003\u001b[0m\u001b[1;33m,\u001b[0m \u001b[0mmin_confidence\u001b[0m \u001b[1;33m=\u001b[0m \u001b[1;36m0.4\u001b[0m\u001b[1;33m,\u001b[0m \u001b[0mmin_lift\u001b[0m \u001b[1;33m=\u001b[0m \u001b[1;36m2\u001b[0m\u001b[1;33m,\u001b[0m \u001b[0mmin_length\u001b[0m \u001b[1;33m=\u001b[0m \u001b[1;36m3\u001b[0m\u001b[1;33m,\u001b[0m \u001b[0mmax_length\u001b[0m \u001b[1;33m=\u001b[0m \u001b[1;36m3\u001b[0m\u001b[1;33m)\u001b[0m\u001b[1;33m\u001b[0m\u001b[1;33m\u001b[0m\u001b[0m\n\u001b[0m",
      "\u001b[1;31mNameError\u001b[0m: name 'transactions' is not defined"
     ]
    }
   ],
   "source": [
    "from apyori import apriori\n",
    "rules = apriori(transactions = transactions, min_support = 0.003, min_confidence = 0.4, min_lift = 2, min_length = 3, max_length = 3)"
   ]
  },
  {
   "cell_type": "markdown",
   "metadata": {
    "id": "b176YNwWspiO"
   },
   "source": [
    "## Visualising the results"
   ]
  },
  {
   "cell_type": "markdown",
   "metadata": {
    "id": "iO6bF_dImT-E"
   },
   "source": [
    "### Displaying the first results coming directly from the output of the apriori function"
   ]
  },
  {
   "cell_type": "code",
   "execution_count": 26,
   "metadata": {
    "id": "kvF-sLc6ifhd"
   },
   "outputs": [],
   "source": [
    "results = list(rules)"
   ]
  },
  {
   "cell_type": "code",
   "execution_count": 27,
   "metadata": {
    "colab": {
     "base_uri": "https://localhost:8080/"
    },
    "id": "eAD8Co4_l9IE",
    "outputId": "99f99767-3c82-42bd-b8da-3d4b44483497"
   },
   "outputs": [
    {
     "data": {
      "text/plain": [
       "[RelationRecord(items=frozenset({'cider', 'eggs'}), support=0.004266097853619517, ordered_statistics=[OrderedStatistic(items_base=frozenset({'cider'}), items_add=frozenset({'eggs'}), confidence=0.4050632911392405, lift=2.2539909101153137)]),\n",
       " RelationRecord(items=frozenset({'extra dark chocolate', 'mineral water'}), support=0.005732568990801226, ordered_statistics=[OrderedStatistic(items_base=frozenset({'extra dark chocolate'}), items_add=frozenset({'mineral water'}), confidence=0.47777777777777775, lift=2.0043686303753416)]),\n",
       " RelationRecord(items=frozenset({'nonfat milk', 'mineral water'}), support=0.005065991201173177, ordered_statistics=[OrderedStatistic(items_base=frozenset({'nonfat milk'}), items_add=frozenset({'mineral water'}), confidence=0.4871794871794871, lift=2.0438105891126024)]),\n",
       " RelationRecord(items=frozenset({'spaghetti', 'strong cheese'}), support=0.0037328356219170776, ordered_statistics=[OrderedStatistic(items_base=frozenset({'strong cheese'}), items_add=frozenset({'spaghetti'}), confidence=0.4827586206896552, lift=2.7727200718170777)]),\n",
       " RelationRecord(items=frozenset({'spaghetti', 'tomato sauce'}), support=0.006265831222503666, ordered_statistics=[OrderedStatistic(items_base=frozenset({'tomato sauce'}), items_add=frozenset({'spaghetti'}), confidence=0.4433962264150943, lift=2.546642491837383)]),\n",
       " RelationRecord(items=frozenset({'avocado', 'spaghetti', 'milk'}), support=0.003332888948140248, ordered_statistics=[OrderedStatistic(items_base=frozenset({'avocado', 'milk'}), items_add=frozenset({'spaghetti'}), confidence=0.44642857142857145, lift=2.564058739881864), OrderedStatistic(items_base=frozenset({'avocado', 'spaghetti'}), items_add=frozenset({'milk'}), confidence=0.41666666666666663, lift=3.215449245541838)]),\n",
       " RelationRecord(items=frozenset({'brownies', 'mineral water', 'eggs'}), support=0.0035995200639914677, ordered_statistics=[OrderedStatistic(items_base=frozenset({'brownies', 'eggs'}), items_add=frozenset({'mineral water'}), confidence=0.49090909090909085, lift=2.059456985967053)]),\n",
       " RelationRecord(items=frozenset({'french fries', 'eggs', 'burgers'}), support=0.009065457938941474, ordered_statistics=[OrderedStatistic(items_base=frozenset({'french fries', 'burgers'}), items_add=frozenset({'eggs'}), confidence=0.4121212121212121, lift=2.293264994155202)]),\n",
       " RelationRecord(items=frozenset({'ground beef', 'spaghetti', 'burgers'}), support=0.005465937874950006, ordered_statistics=[OrderedStatistic(items_base=frozenset({'ground beef', 'burgers'}), items_add=frozenset({'spaghetti'}), confidence=0.45555555555555555, lift=2.616479496341671)]),\n",
       " RelationRecord(items=frozenset({'olive oil', 'mineral water', 'burgers'}), support=0.003332888948140248, ordered_statistics=[OrderedStatistic(items_base=frozenset({'olive oil', 'burgers'}), items_add=frozenset({'mineral water'}), confidence=0.5208333333333334, lift=2.1849948732289337)]),\n",
       " RelationRecord(items=frozenset({'pancakes', 'spaghetti', 'burgers'}), support=0.004399413411545127, ordered_statistics=[OrderedStatistic(items_base=frozenset({'pancakes', 'burgers'}), items_add=frozenset({'spaghetti'}), confidence=0.4177215189873418, lift=2.3991800259755367)]),\n",
       " RelationRecord(items=frozenset({'eggs', 'turkey', 'cake'}), support=0.003199573390214638, ordered_statistics=[OrderedStatistic(items_base=frozenset({'turkey', 'cake'}), items_add=frozenset({'eggs'}), confidence=0.46153846153846156, lift=2.5682492581602374)]),\n",
       " RelationRecord(items=frozenset({'frozen smoothie', 'mineral water', 'cake'}), support=0.003199573390214638, ordered_statistics=[OrderedStatistic(items_base=frozenset({'frozen smoothie', 'cake'}), items_add=frozenset({'mineral water'}), confidence=0.5, lift=2.0975950782997765)]),\n",
       " RelationRecord(items=frozenset({'ground beef', 'spaghetti', 'cake'}), support=0.0037328356219170776, ordered_statistics=[OrderedStatistic(items_base=frozenset({'ground beef', 'cake'}), items_add=frozenset({'spaghetti'}), confidence=0.45901639344262296, lift=2.6363567895965656)]),\n",
       " RelationRecord(items=frozenset({'mineral water', 'cake', 'milk'}), support=0.006399146780429276, ordered_statistics=[OrderedStatistic(items_base=frozenset({'cake', 'milk'}), items_add=frozenset({'mineral water'}), confidence=0.48, lift=2.013691275167785)]),\n",
       " RelationRecord(items=frozenset({'olive oil', 'mineral water', 'cake'}), support=0.003199573390214638, ordered_statistics=[OrderedStatistic(items_base=frozenset({'olive oil', 'cake'}), items_add=frozenset({'mineral water'}), confidence=0.489795918367347, lift=2.054787015477332)]),\n",
       " RelationRecord(items=frozenset({'soup', 'mineral water', 'cake'}), support=0.003199573390214638, ordered_statistics=[OrderedStatistic(items_base=frozenset({'soup', 'cake'}), items_add=frozenset({'mineral water'}), confidence=0.5217391304347826, lift=2.18879486431281)]),\n",
       " RelationRecord(items=frozenset({'olive oil', 'spaghetti', 'cake'}), support=0.0030662578322890282, ordered_statistics=[OrderedStatistic(items_base=frozenset({'olive oil', 'cake'}), items_add=frozenset({'spaghetti'}), confidence=0.46938775510204084, lift=2.6959246179329313)]),\n",
       " RelationRecord(items=frozenset({'tomatoes', 'spaghetti', 'cake'}), support=0.0034662045060658577, ordered_statistics=[OrderedStatistic(items_base=frozenset({'tomatoes', 'cake'}), items_add=frozenset({'spaghetti'}), confidence=0.4126984126984127, lift=2.370329857313012)]),\n",
       " RelationRecord(items=frozenset({'ground beef', 'cereals', 'spaghetti'}), support=0.0030662578322890282, ordered_statistics=[OrderedStatistic(items_base=frozenset({'ground beef', 'cereals'}), items_add=frozenset({'spaghetti'}), confidence=0.6764705882352942, lift=3.8853031258445188), OrderedStatistic(items_base=frozenset({'cereals', 'spaghetti'}), items_add=frozenset({'ground beef'}), confidence=0.45999999999999996, lift=4.681763907734057)]),\n",
       " RelationRecord(items=frozenset({'cereals', 'mineral water', 'milk'}), support=0.0035995200639914677, ordered_statistics=[OrderedStatistic(items_base=frozenset({'cereals', 'milk'}), items_add=frozenset({'mineral water'}), confidence=0.5094339622641509, lift=2.137172343928074)]),\n",
       " RelationRecord(items=frozenset({'cereals', 'spaghetti', 'mineral water'}), support=0.0034662045060658577, ordered_statistics=[OrderedStatistic(items_base=frozenset({'cereals', 'spaghetti'}), items_add=frozenset({'mineral water'}), confidence=0.5199999999999999, lift=2.181498881431767)]),\n",
       " RelationRecord(items=frozenset({'chocolate', 'mineral water', 'chicken'}), support=0.007598986801759766, ordered_statistics=[OrderedStatistic(items_base=frozenset({'chocolate', 'chicken'}), items_add=frozenset({'mineral water'}), confidence=0.5181818181818182, lift=2.1738712629652226)]),\n",
       " RelationRecord(items=frozenset({'ground beef', 'chicken', 'milk'}), support=0.0038661511798426876, ordered_statistics=[OrderedStatistic(items_base=frozenset({'ground beef', 'chicken'}), items_add=frozenset({'milk'}), confidence=0.40845070422535207, lift=3.152046020981858)]),\n",
       " RelationRecord(items=frozenset({'ground beef', 'spaghetti', 'chicken'}), support=0.004799360085321957, ordered_statistics=[OrderedStatistic(items_base=frozenset({'ground beef', 'chicken'}), items_add=frozenset({'spaghetti'}), confidence=0.5070422535211266, lift=2.9121929124517387)]),\n",
       " RelationRecord(items=frozenset({'olive oil', 'chicken', 'milk'}), support=0.0035995200639914677, ordered_statistics=[OrderedStatistic(items_base=frozenset({'olive oil', 'chicken'}), items_add=frozenset({'milk'}), confidence=0.5, lift=3.858539094650206)]),\n",
       " RelationRecord(items=frozenset({'olive oil', 'mineral water', 'chicken'}), support=0.0035995200639914677, ordered_statistics=[OrderedStatistic(items_base=frozenset({'olive oil', 'chicken'}), items_add=frozenset({'mineral water'}), confidence=0.5, lift=2.0975950782997765)]),\n",
       " RelationRecord(items=frozenset({'pancakes', 'mineral water', 'chicken'}), support=0.004799360085321957, ordered_statistics=[OrderedStatistic(items_base=frozenset({'pancakes', 'chicken'}), items_add=frozenset({'mineral water'}), confidence=0.5294117647058824, lift=2.2209830240821162)]),\n",
       " RelationRecord(items=frozenset({'soup', 'mineral water', 'chicken'}), support=0.003199573390214638, ordered_statistics=[OrderedStatistic(items_base=frozenset({'soup', 'chicken'}), items_add=frozenset({'mineral water'}), confidence=0.5333333333333334, lift=2.2374347501864285)]),\n",
       " RelationRecord(items=frozenset({'tomatoes', 'mineral water', 'chicken'}), support=0.003199573390214638, ordered_statistics=[OrderedStatistic(items_base=frozenset({'tomatoes', 'chicken'}), items_add=frozenset({'mineral water'}), confidence=0.5, lift=2.0975950782997765)]),\n",
       " RelationRecord(items=frozenset({'olive oil', 'spaghetti', 'chicken'}), support=0.0034662045060658577, ordered_statistics=[OrderedStatistic(items_base=frozenset({'olive oil', 'chicken'}), items_add=frozenset({'spaghetti'}), confidence=0.48148148148148145, lift=2.765384833531847)]),\n",
       " RelationRecord(items=frozenset({'ground beef', 'chocolate', 'herb & pepper'}), support=0.003999466737768298, ordered_statistics=[OrderedStatistic(items_base=frozenset({'chocolate', 'herb & pepper'}), items_add=frozenset({'ground beef'}), confidence=0.4411764705882354, lift=4.4901827759597746)]),\n",
       " RelationRecord(items=frozenset({'olive oil', 'chocolate', 'mineral water'}), support=0.008265564591387815, ordered_statistics=[OrderedStatistic(items_base=frozenset({'olive oil', 'chocolate'}), items_add=frozenset({'mineral water'}), confidence=0.5040650406504065, lift=2.1146486968225386)]),\n",
       " RelationRecord(items=frozenset({'chocolate', 'soup', 'mineral water'}), support=0.005599253432875617, ordered_statistics=[OrderedStatistic(items_base=frozenset({'chocolate', 'soup'}), items_add=frozenset({'mineral water'}), confidence=0.5526315789473685, lift=2.3183945602260687)]),\n",
       " RelationRecord(items=frozenset({'olive oil', 'chocolate', 'spaghetti'}), support=0.007065724570057326, ordered_statistics=[OrderedStatistic(items_base=frozenset({'olive oil', 'chocolate'}), items_add=frozenset({'spaghetti'}), confidence=0.43089430894308944, lift=2.4748378341363813)]),\n",
       " RelationRecord(items=frozenset({'nan', 'cider', 'eggs'}), support=0.004266097853619517, ordered_statistics=[OrderedStatistic(items_base=frozenset({'cider'}), items_add=frozenset({'nan', 'eggs'}), confidence=0.4050632911392405, lift=2.2539909101153137), OrderedStatistic(items_base=frozenset({'nan', 'cider'}), items_add=frozenset({'eggs'}), confidence=0.4050632911392405, lift=2.2539909101153137)]),\n",
       " RelationRecord(items=frozenset({'cooking oil', 'mineral water', 'eggs'}), support=0.006399146780429276, ordered_statistics=[OrderedStatistic(items_base=frozenset({'cooking oil', 'eggs'}), items_add=frozenset({'mineral water'}), confidence=0.5454545454545454, lift=2.2882855399633923)]),\n",
       " RelationRecord(items=frozenset({'cooking oil', 'spaghetti', 'ground beef'}), support=0.004799360085321957, ordered_statistics=[OrderedStatistic(items_base=frozenset({'cooking oil', 'ground beef'}), items_add=frozenset({'spaghetti'}), confidence=0.5714285714285714, lift=3.2819951870487856)]),\n",
       " RelationRecord(items=frozenset({'cooking oil', 'pancakes', 'mineral water'}), support=0.004666044527396347, ordered_statistics=[OrderedStatistic(items_base=frozenset({'cooking oil', 'pancakes'}), items_add=frozenset({'mineral water'}), confidence=0.5932203389830508, lift=2.4886721267963448)]),\n",
       " RelationRecord(items=frozenset({'cooking oil', 'spaghetti', 'mineral water'}), support=0.007598986801759766, ordered_statistics=[OrderedStatistic(items_base=frozenset({'cooking oil', 'spaghetti'}), items_add=frozenset({'mineral water'}), confidence=0.4789915966386554, lift=2.0094608313123907)]),\n",
       " RelationRecord(items=frozenset({'spaghetti', 'cottage cheese', 'mineral water'}), support=0.003332888948140248, ordered_statistics=[OrderedStatistic(items_base=frozenset({'spaghetti', 'cottage cheese'}), items_add=frozenset({'mineral water'}), confidence=0.48076923076923084, lift=2.016918344519016)]),\n",
       " RelationRecord(items=frozenset({'grated cheese', 'mineral water', 'eggs'}), support=0.004399413411545127, ordered_statistics=[OrderedStatistic(items_base=frozenset({'grated cheese', 'eggs'}), items_add=frozenset({'mineral water'}), confidence=0.4852941176470589, lift=2.0359011054086067)]),\n",
       " RelationRecord(items=frozenset({'spaghetti', 'grated cheese', 'eggs'}), support=0.004266097853619517, ordered_statistics=[OrderedStatistic(items_base=frozenset({'grated cheese', 'eggs'}), items_add=frozenset({'spaghetti'}), confidence=0.47058823529411764, lift=2.7028195658048824)]),\n",
       " RelationRecord(items=frozenset({'ground beef', 'mineral water', 'eggs'}), support=0.010131982402346354, ordered_statistics=[OrderedStatistic(items_base=frozenset({'ground beef', 'eggs'}), items_add=frozenset({'mineral water'}), confidence=0.5066666666666667, lift=2.125563012677107)]),\n",
       " RelationRecord(items=frozenset({'ground beef', 'spaghetti', 'eggs'}), support=0.008932142381015865, ordered_statistics=[OrderedStatistic(items_base=frozenset({'ground beef', 'eggs'}), items_add=frozenset({'spaghetti'}), confidence=0.4466666666666667, lift=2.565426237876468)]),\n",
       " RelationRecord(items=frozenset({'olive oil', 'mineral water', 'eggs'}), support=0.005865884548726837, ordered_statistics=[OrderedStatistic(items_base=frozenset({'olive oil', 'eggs'}), items_add=frozenset({'mineral water'}), confidence=0.48888888888888893, lift=2.050981854337559)]),\n",
       " RelationRecord(items=frozenset({'soup', 'mineral water', 'eggs'}), support=0.004932675643247567, ordered_statistics=[OrderedStatistic(items_base=frozenset({'soup', 'eggs'}), items_add=frozenset({'mineral water'}), confidence=0.5441176470588236, lift=2.2826769969732865)]),\n",
       " RelationRecord(items=frozenset({'olive oil', 'spaghetti', 'eggs'}), support=0.005065991201173177, ordered_statistics=[OrderedStatistic(items_base=frozenset({'olive oil', 'eggs'}), items_add=frozenset({'spaghetti'}), confidence=0.4222222222222222, lift=2.4250297770971585)]),\n",
       " RelationRecord(items=frozenset({'spaghetti', 'red wine', 'eggs'}), support=0.0037328356219170776, ordered_statistics=[OrderedStatistic(items_base=frozenset({'red wine', 'eggs'}), items_add=frozenset({'spaghetti'}), confidence=0.5283018867924528, lift=3.0342974370828397)]),\n",
       " RelationRecord(items=frozenset({'ground beef', 'escalope', 'spaghetti'}), support=0.003332888948140248, ordered_statistics=[OrderedStatistic(items_base=frozenset({'ground beef', 'escalope'}), items_add=frozenset({'spaghetti'}), confidence=0.40322580645161293, lift=2.315924023119103)]),\n",
       " RelationRecord(items=frozenset({'escalope', 'mineral water', 'milk'}), support=0.003999466737768298, ordered_statistics=[OrderedStatistic(items_base=frozenset({'escalope', 'milk'}), items_add=frozenset({'mineral water'}), confidence=0.5172413793103449, lift=2.1699259430687343)]),\n",
       " RelationRecord(items=frozenset({'nan', 'extra dark chocolate', 'mineral water'}), support=0.005732568990801226, ordered_statistics=[OrderedStatistic(items_base=frozenset({'extra dark chocolate'}), items_add=frozenset({'nan', 'mineral water'}), confidence=0.47777777777777775, lift=2.0054902692283774), OrderedStatistic(items_base=frozenset({'nan', 'extra dark chocolate'}), items_add=frozenset({'mineral water'}), confidence=0.47777777777777775, lift=2.0043686303753416)]),\n",
       " RelationRecord(items=frozenset({'ground beef', 'french fries', 'herb & pepper'}), support=0.003199573390214638, ordered_statistics=[OrderedStatistic(items_base=frozenset({'french fries', 'herb & pepper'}), items_add=frozenset({'ground beef'}), confidence=0.46153846153846156, lift=4.697421981004071)]),\n",
       " RelationRecord(items=frozenset({'ground beef', 'french fries', 'spaghetti'}), support=0.005599253432875617, ordered_statistics=[OrderedStatistic(items_base=frozenset({'ground beef', 'french fries'}), items_add=frozenset({'spaghetti'}), confidence=0.40384615384615385, lift=2.319486983154671)]),\n",
       " RelationRecord(items=frozenset({'mineral water', 'spaghetti', 'french wine'}), support=0.003332888948140248, ordered_statistics=[OrderedStatistic(items_base=frozenset({'mineral water', 'french wine'}), items_add=frozenset({'spaghetti'}), confidence=0.40322580645161293, lift=2.315924023119103)]),\n",
       " RelationRecord(items=frozenset({'spaghetti', 'frozen smoothie', 'frozen vegetables'}), support=0.0041327822956939075, ordered_statistics=[OrderedStatistic(items_base=frozenset({'frozen smoothie', 'frozen vegetables'}), items_add=frozenset({'spaghetti'}), confidence=0.4133333333333334, lift=2.3739765186319555)]),\n",
       " RelationRecord(items=frozenset({'ground beef', 'frozen smoothie', 'spaghetti'}), support=0.0030662578322890282, ordered_statistics=[OrderedStatistic(items_base=frozenset({'ground beef', 'frozen smoothie'}), items_add=frozenset({'spaghetti'}), confidence=0.40350877192982454, lift=2.3175492329598884)]),\n",
       " RelationRecord(items=frozenset({'ground beef', 'frozen vegetables', 'mineral water'}), support=0.009198773496867084, ordered_statistics=[OrderedStatistic(items_base=frozenset({'ground beef', 'frozen vegetables'}), items_add=frozenset({'mineral water'}), confidence=0.5433070866141732, lift=2.2792765417745597)]),\n",
       " RelationRecord(items=frozenset({'ground beef', 'spaghetti', 'frozen vegetables'}), support=0.008665511265164644, ordered_statistics=[OrderedStatistic(items_base=frozenset({'ground beef', 'frozen vegetables'}), items_add=frozenset({'spaghetti'}), confidence=0.5118110236220472, lift=2.939582303360625)]),\n",
       " RelationRecord(items=frozenset({'frozen vegetables', 'mineral water', 'herb & pepper'}), support=0.003199573390214638, ordered_statistics=[OrderedStatistic(items_base=frozenset({'frozen vegetables', 'herb & pepper'}), items_add=frozenset({'mineral water'}), confidence=0.5333333333333334, lift=2.2374347501864285)]),\n",
       " RelationRecord(items=frozenset({'olive oil', 'frozen vegetables', 'milk'}), support=0.004799360085321957, ordered_statistics=[OrderedStatistic(items_base=frozenset({'olive oil', 'frozen vegetables'}), items_add=frozenset({'milk'}), confidence=0.4235294117647058, lift=3.2684095860566447)]),\n",
       " RelationRecord(items=frozenset({'soup', 'frozen vegetables', 'milk'}), support=0.003999466737768298, ordered_statistics=[OrderedStatistic(items_base=frozenset({'soup', 'frozen vegetables'}), items_add=frozenset({'milk'}), confidence=0.5, lift=3.858539094650206)]),\n",
       " RelationRecord(items=frozenset({'olive oil', 'frozen vegetables', 'mineral water'}), support=0.006532462338354886, ordered_statistics=[OrderedStatistic(items_base=frozenset({'olive oil', 'frozen vegetables'}), items_add=frozenset({'mineral water'}), confidence=0.5764705882352941, lift=2.4184037373338594)]),\n",
       " RelationRecord(items=frozenset({'salmon', 'frozen vegetables', 'mineral water'}), support=0.0030662578322890282, ordered_statistics=[OrderedStatistic(items_base=frozenset({'salmon', 'frozen vegetables'}), items_add=frozenset({'mineral water'}), confidence=0.4893617021276596, lift=2.05296539578276)]),\n",
       " RelationRecord(items=frozenset({'soup', 'frozen vegetables', 'mineral water'}), support=0.005065991201173177, ordered_statistics=[OrderedStatistic(items_base=frozenset({'soup', 'frozen vegetables'}), items_add=frozenset({'mineral water'}), confidence=0.6333333333333333, lift=2.6569537658463833)]),\n",
       " RelationRecord(items=frozenset({'turkey', 'frozen vegetables', 'mineral water'}), support=0.004399413411545127, ordered_statistics=[OrderedStatistic(items_base=frozenset({'frozen vegetables', 'turkey'}), items_add=frozenset({'mineral water'}), confidence=0.5, lift=2.0975950782997765)]),\n",
       " RelationRecord(items=frozenset({'whole wheat rice', 'frozen vegetables', 'mineral water'}), support=0.004399413411545127, ordered_statistics=[OrderedStatistic(items_base=frozenset({'whole wheat rice', 'frozen vegetables'}), items_add=frozenset({'mineral water'}), confidence=0.4852941176470589, lift=2.0359011054086067)]),\n",
       " RelationRecord(items=frozenset({'olive oil', 'spaghetti', 'frozen vegetables'}), support=0.005732568990801226, ordered_statistics=[OrderedStatistic(items_base=frozenset({'olive oil', 'frozen vegetables'}), items_add=frozenset({'spaghetti'}), confidence=0.5058823529411764, lift=2.9055310332402486)]),\n",
       " RelationRecord(items=frozenset({'spaghetti', 'soup', 'frozen vegetables'}), support=0.0035995200639914677, ordered_statistics=[OrderedStatistic(items_base=frozenset({'soup', 'frozen vegetables'}), items_add=frozenset({'spaghetti'}), confidence=0.44999999999999996, lift=2.584571209800919)]),\n",
       " RelationRecord(items=frozenset({'tomatoes', 'spaghetti', 'frozen vegetables'}), support=0.006665777896280496, ordered_statistics=[OrderedStatistic(items_base=frozenset({'tomatoes', 'frozen vegetables'}), items_add=frozenset({'spaghetti'}), confidence=0.41322314049586784, lift=2.373343626998089)]),\n",
       " RelationRecord(items=frozenset({'spaghetti', 'green tea', 'grated cheese'}), support=0.003199573390214638, ordered_statistics=[OrderedStatistic(items_base=frozenset({'green tea', 'grated cheese'}), items_add=frozenset({'spaghetti'}), confidence=0.4067796610169492, lift=2.3363355568821866)]),\n",
       " RelationRecord(items=frozenset({'ground beef', 'spaghetti', 'grated cheese'}), support=0.005332622317024397, ordered_statistics=[OrderedStatistic(items_base=frozenset({'ground beef', 'grated cheese'}), items_add=frozenset({'spaghetti'}), confidence=0.47058823529411764, lift=2.7028195658048824)]),\n",
       " RelationRecord(items=frozenset({'spaghetti', 'grated cheese', 'herb & pepper'}), support=0.0030662578322890282, ordered_statistics=[OrderedStatistic(items_base=frozenset({'grated cheese', 'herb & pepper'}), items_add=frozenset({'spaghetti'}), confidence=0.46938775510204084, lift=2.6959246179329313)]),\n",
       " RelationRecord(items=frozenset({'spaghetti', 'grated cheese', 'milk'}), support=0.0035995200639914677, ordered_statistics=[OrderedStatistic(items_base=frozenset({'grated cheese', 'milk'}), items_add=frozenset({'spaghetti'}), confidence=0.45762711864406774, lift=2.6283775014924595)]),\n",
       " RelationRecord(items=frozenset({'pancakes', 'grated cheese', 'mineral water'}), support=0.0034662045060658577, ordered_statistics=[OrderedStatistic(items_base=frozenset({'pancakes', 'grated cheese'}), items_add=frozenset({'mineral water'}), confidence=0.5, lift=2.0975950782997765)]),\n",
       " RelationRecord(items=frozenset({'pancakes', 'spaghetti', 'grated cheese'}), support=0.0030662578322890282, ordered_statistics=[OrderedStatistic(items_base=frozenset({'pancakes', 'grated cheese'}), items_add=frozenset({'spaghetti'}), confidence=0.44230769230769235, lift=2.540390505359878)]),\n",
       " RelationRecord(items=frozenset({'ground beef', 'green tea', 'spaghetti'}), support=0.006399146780429276, ordered_statistics=[OrderedStatistic(items_base=frozenset({'ground beef', 'green tea'}), items_add=frozenset({'spaghetti'}), confidence=0.43243243243243246, lift=2.483672033442325)]),\n",
       " RelationRecord(items=frozenset({'olive oil', 'spaghetti', 'green tea'}), support=0.004532728969470737, ordered_statistics=[OrderedStatistic(items_base=frozenset({'olive oil', 'green tea'}), items_add=frozenset({'spaghetti'}), confidence=0.4533333333333333, lift=2.60371618172537)]),\n",
       " RelationRecord(items=frozenset({'ground beef', 'mineral water', 'low fat yogurt'}), support=0.004799360085321957, ordered_statistics=[OrderedStatistic(items_base=frozenset({'ground beef', 'low fat yogurt'}), items_add=frozenset({'mineral water'}), confidence=0.5, lift=2.0975950782997765)]),\n",
       " RelationRecord(items=frozenset({'ground beef', 'spaghetti', 'low fat yogurt'}), support=0.003999466737768298, ordered_statistics=[OrderedStatistic(items_base=frozenset({'ground beef', 'low fat yogurt'}), items_add=frozenset({'spaghetti'}), confidence=0.41666666666666674, lift=2.393121490556407)]),\n",
       " RelationRecord(items=frozenset({'ground beef', 'mineral water', 'milk'}), support=0.011065191307825623, ordered_statistics=[OrderedStatistic(items_base=frozenset({'ground beef', 'milk'}), items_add=frozenset({'mineral water'}), confidence=0.503030303030303, lift=2.1103077757440176)]),\n",
       " RelationRecord(items=frozenset({'ground beef', 'soup', 'milk'}), support=0.003999466737768298, ordered_statistics=[OrderedStatistic(items_base=frozenset({'ground beef', 'soup'}), items_add=frozenset({'milk'}), confidence=0.4109589041095891, lift=3.1714019956029094)]),\n",
       " RelationRecord(items=frozenset({'ground beef', 'spaghetti', 'milk'}), support=0.009732035728569524, ordered_statistics=[OrderedStatistic(items_base=frozenset({'ground beef', 'milk'}), items_add=frozenset({'spaghetti'}), confidence=0.44242424242424244, lift=2.5410599099726205)]),\n",
       " RelationRecord(items=frozenset({'ground beef', 'pancakes', 'mineral water'}), support=0.007465671243834155, ordered_statistics=[OrderedStatistic(items_base=frozenset({'ground beef', 'pancakes'}), items_add=frozenset({'mineral water'}), confidence=0.5137614678899083, lift=2.1553270529318804)]),\n",
       " RelationRecord(items=frozenset({'ground beef', 'soup', 'mineral water'}), support=0.005065991201173177, ordered_statistics=[OrderedStatistic(items_base=frozenset({'ground beef', 'soup'}), items_add=frozenset({'mineral water'}), confidence=0.5205479452054794, lift=2.1837976157641505)]),\n",
       " RelationRecord(items=frozenset({'ground beef', 'spaghetti', 'mineral water'}), support=0.017064391414478068, ordered_statistics=[OrderedStatistic(items_base=frozenset({'ground beef', 'mineral water'}), items_add=frozenset({'spaghetti'}), confidence=0.41693811074918563, lift=2.3946805273580716)]),\n",
       " RelationRecord(items=frozenset({'olive oil', 'ground beef', 'spaghetti'}), support=0.0061325156645780565, ordered_statistics=[OrderedStatistic(items_base=frozenset({'olive oil', 'ground beef'}), items_add=frozenset({'spaghetti'}), confidence=0.4339622641509434, lift=2.4924586090323326)]),\n",
       " RelationRecord(items=frozenset({'ground beef', 'pancakes', 'spaghetti'}), support=0.006399146780429276, ordered_statistics=[OrderedStatistic(items_base=frozenset({'ground beef', 'pancakes'}), items_add=frozenset({'spaghetti'}), confidence=0.44036697247706424, lift=2.5292439973586975)]),\n",
       " RelationRecord(items=frozenset({'ground beef', 'spaghetti', 'pepper'}), support=0.003332888948140248, ordered_statistics=[OrderedStatistic(items_base=frozenset({'ground beef', 'pepper'}), items_add=frozenset({'spaghetti'}), confidence=0.5102040816326531, lift=2.9303528455792733)]),\n",
       " RelationRecord(items=frozenset({'ground beef', 'salmon', 'spaghetti'}), support=0.0038661511798426876, ordered_statistics=[OrderedStatistic(items_base=frozenset({'ground beef', 'salmon'}), items_add=frozenset({'spaghetti'}), confidence=0.43283582089552236, lift=2.4859888916824757)]),\n",
       " RelationRecord(items=frozenset({'ground beef', 'shrimp', 'spaghetti'}), support=0.005999200106652446, ordered_statistics=[OrderedStatistic(items_base=frozenset({'ground beef', 'shrimp'}), items_add=frozenset({'spaghetti'}), confidence=0.5232558139534884, lift=3.005315360233627)]),\n",
       " RelationRecord(items=frozenset({'ground beef', 'spaghetti', 'tomato sauce'}), support=0.0030662578322890282, ordered_statistics=[OrderedStatistic(items_base=frozenset({'ground beef', 'tomato sauce'}), items_add=frozenset({'spaghetti'}), confidence=0.5750000000000001, lift=3.3025076569678413), OrderedStatistic(items_base=frozenset({'spaghetti', 'tomato sauce'}), items_add=frozenset({'ground beef'}), confidence=0.4893617021276596, lift=4.980599901844742)]),\n",
       " RelationRecord(items=frozenset({'ground beef', 'tomatoes', 'spaghetti'}), support=0.005599253432875617, ordered_statistics=[OrderedStatistic(items_base=frozenset({'ground beef', 'tomatoes'}), items_add=frozenset({'spaghetti'}), confidence=0.4772727272727273, lift=2.741211889182793)]),\n",
       " RelationRecord(items=frozenset({'spaghetti', 'mineral water', 'ham'}), support=0.0037328356219170776, ordered_statistics=[OrderedStatistic(items_base=frozenset({'mineral water', 'ham'}), items_add=frozenset({'spaghetti'}), confidence=0.40579710144927533, lift=2.3306922342810217)]),\n",
       " RelationRecord(items=frozenset({'pancakes', 'mineral water', 'herb & pepper'}), support=0.0035995200639914677, ordered_statistics=[OrderedStatistic(items_base=frozenset({'pancakes', 'herb & pepper'}), items_add=frozenset({'mineral water'}), confidence=0.49090909090909085, lift=2.059456985967053)]),\n",
       " RelationRecord(items=frozenset({'pancakes', 'spaghetti', 'herb & pepper'}), support=0.0035995200639914677, ordered_statistics=[OrderedStatistic(items_base=frozenset({'pancakes', 'herb & pepper'}), items_add=frozenset({'spaghetti'}), confidence=0.49090909090909085, lift=2.8195322288737295)]),\n",
       " RelationRecord(items=frozenset({'hot dogs', 'spaghetti', 'mineral water'}), support=0.0037328356219170776, ordered_statistics=[OrderedStatistic(items_base=frozenset({'hot dogs', 'mineral water'}), items_add=frozenset({'spaghetti'}), confidence=0.40579710144927533, lift=2.3306922342810217)]),\n",
       " RelationRecord(items=frozenset({'light cream', 'spaghetti', 'mineral water'}), support=0.003199573390214638, ordered_statistics=[OrderedStatistic(items_base=frozenset({'light cream', 'mineral water'}), items_add=frozenset({'spaghetti'}), confidence=0.4363636363636364, lift=2.506250870109982), OrderedStatistic(items_base=frozenset({'light cream', 'spaghetti'}), items_add=frozenset({'mineral water'}), confidence=0.6, lift=2.5171140939597314)]),\n",
       " RelationRecord(items=frozenset({'olive oil', 'mineral water', 'milk'}), support=0.008532195707239034, ordered_statistics=[OrderedStatistic(items_base=frozenset({'olive oil', 'milk'}), items_add=frozenset({'mineral water'}), confidence=0.5, lift=2.0975950782997765)]),\n",
       " RelationRecord(items=frozenset({'soup', 'mineral water', 'milk'}), support=0.008532195707239034, ordered_statistics=[OrderedStatistic(items_base=frozenset({'soup', 'milk'}), items_add=frozenset({'mineral water'}), confidence=0.5614035087719298, lift=2.3551944738804504)]),\n",
       " RelationRecord(items=frozenset({'turkey', 'mineral water', 'milk'}), support=0.0061325156645780565, ordered_statistics=[OrderedStatistic(items_base=frozenset({'turkey', 'milk'}), items_add=frozenset({'mineral water'}), confidence=0.5411764705882353, lift=2.270338202395052)]),\n",
       " RelationRecord(items=frozenset({'olive oil', 'soup', 'milk'}), support=0.0035995200639914677, ordered_statistics=[OrderedStatistic(items_base=frozenset({'olive oil', 'soup'}), items_add=frozenset({'milk'}), confidence=0.4029850746268656, lift=3.1098673300165833)]),\n",
       " RelationRecord(items=frozenset({'olive oil', 'spaghetti', 'milk'}), support=0.007199040127982935, ordered_statistics=[OrderedStatistic(items_base=frozenset({'olive oil', 'milk'}), items_add=frozenset({'spaghetti'}), confidence=0.421875, lift=2.4230355091883613)]),\n",
       " RelationRecord(items=frozenset({'tomatoes', 'soup', 'milk'}), support=0.0030662578322890282, ordered_statistics=[OrderedStatistic(items_base=frozenset({'tomatoes', 'soup'}), items_add=frozenset({'milk'}), confidence=0.44230769230769235, lift=3.4133230452674903)]),\n",
       " RelationRecord(items=frozenset({'tomatoes', 'spaghetti', 'milk'}), support=0.005865884548726837, ordered_statistics=[OrderedStatistic(items_base=frozenset({'tomatoes', 'milk'}), items_add=frozenset({'spaghetti'}), confidence=0.41904761904761906, lift=2.406796470502443)]),\n",
       " RelationRecord(items=frozenset({'spaghetti', 'turkey', 'milk'}), support=0.004799360085321957, ordered_statistics=[OrderedStatistic(items_base=frozenset({'turkey', 'milk'}), items_add=frozenset({'spaghetti'}), confidence=0.4235294117647058, lift=2.432537609224394)]),\n",
       " RelationRecord(items=frozenset({'spaghetti', 'whole wheat pasta', 'milk'}), support=0.003999466737768298, ordered_statistics=[OrderedStatistic(items_base=frozenset({'whole wheat pasta', 'milk'}), items_add=frozenset({'spaghetti'}), confidence=0.40540540540540543, lift=2.3284425313521795), OrderedStatistic(items_base=frozenset({'spaghetti', 'whole wheat pasta'}), items_add=frozenset({'milk'}), confidence=0.4545454545454546, lift=3.5077628133183696)]),\n",
       " RelationRecord(items=frozenset({'nan', 'nonfat milk', 'mineral water'}), support=0.005065991201173177, ordered_statistics=[OrderedStatistic(items_base=frozenset({'nonfat milk'}), items_add=frozenset({'nan', 'mineral water'}), confidence=0.4871794871794871, lift=2.0449542995709753), OrderedStatistic(items_base=frozenset({'nan', 'nonfat milk'}), items_add=frozenset({'mineral water'}), confidence=0.4871794871794871, lift=2.0438105891126024)]),\n",
       " RelationRecord(items=frozenset({'olive oil', 'shrimp', 'mineral water'}), support=0.004532728969470737, ordered_statistics=[OrderedStatistic(items_base=frozenset({'olive oil', 'shrimp'}), items_add=frozenset({'mineral water'}), confidence=0.5573770491803278, lift=2.338302710235816)]),\n",
       " RelationRecord(items=frozenset({'olive oil', 'soup', 'mineral water'}), support=0.005199306759098787, ordered_statistics=[OrderedStatistic(items_base=frozenset({'olive oil', 'soup'}), items_add=frozenset({'mineral water'}), confidence=0.582089552238806, lift=2.44197635981168)]),\n",
       " RelationRecord(items=frozenset({'olive oil', 'tomatoes', 'mineral water'}), support=0.0041327822956939075, ordered_statistics=[OrderedStatistic(items_base=frozenset({'olive oil', 'tomatoes'}), items_add=frozenset({'mineral water'}), confidence=0.5740740740740741, lift=2.4083499047145582)]),\n",
       " RelationRecord(items=frozenset({'olive oil', 'whole wheat pasta', 'mineral water'}), support=0.0038661511798426876, ordered_statistics=[OrderedStatistic(items_base=frozenset({'whole wheat pasta', 'mineral water'}), items_add=frozenset({'olive oil'}), confidence=0.4027777777777778, lift=6.115862573099416), OrderedStatistic(items_base=frozenset({'olive oil', 'whole wheat pasta'}), items_add=frozenset({'mineral water'}), confidence=0.4833333333333333, lift=2.0276752423564504)]),\n",
       " RelationRecord(items=frozenset({'pancakes', 'soup', 'mineral water'}), support=0.004266097853619517, ordered_statistics=[OrderedStatistic(items_base=frozenset({'pancakes', 'soup'}), items_add=frozenset({'mineral water'}), confidence=0.6274509803921569, lift=2.632276176689915)]),\n",
       " RelationRecord(items=frozenset({'pancakes', 'whole wheat rice', 'mineral water'}), support=0.0041327822956939075, ordered_statistics=[OrderedStatistic(items_base=frozenset({'pancakes', 'whole wheat rice'}), items_add=frozenset({'mineral water'}), confidence=0.5961538461538461, lift=2.5009787472035794)]),\n",
       " RelationRecord(items=frozenset({'spaghetti', 'salmon', 'mineral water'}), support=0.006799093454206106, ordered_statistics=[OrderedStatistic(items_base=frozenset({'spaghetti', 'salmon'}), items_add=frozenset({'mineral water'}), confidence=0.504950495049505, lift=2.1183633464017544)]),\n",
       " RelationRecord(items=frozenset({'spaghetti', 'soup', 'mineral water'}), support=0.007465671243834155, ordered_statistics=[OrderedStatistic(items_base=frozenset({'spaghetti', 'soup'}), items_add=frozenset({'mineral water'}), confidence=0.5233644859813084, lift=2.1956135399025696)]),\n",
       " RelationRecord(items=frozenset({'tomatoes', 'soup', 'mineral water'}), support=0.0037328356219170776, ordered_statistics=[OrderedStatistic(items_base=frozenset({'tomatoes', 'soup'}), items_add=frozenset({'mineral water'}), confidence=0.5384615384615384, lift=2.2589485458612977)]),\n",
       " RelationRecord(items=frozenset({'nan', 'spaghetti', 'strong cheese'}), support=0.0037328356219170776, ordered_statistics=[OrderedStatistic(items_base=frozenset({'strong cheese'}), items_add=frozenset({'nan', 'spaghetti'}), confidence=0.4827586206896552, lift=2.7727200718170777), OrderedStatistic(items_base=frozenset({'nan', 'strong cheese'}), items_add=frozenset({'spaghetti'}), confidence=0.4827586206896552, lift=2.7727200718170777)]),\n",
       " RelationRecord(items=frozenset({'nan', 'spaghetti', 'tomato sauce'}), support=0.006265831222503666, ordered_statistics=[OrderedStatistic(items_base=frozenset({'tomato sauce'}), items_add=frozenset({'nan', 'spaghetti'}), confidence=0.4433962264150943, lift=2.546642491837383), OrderedStatistic(items_base=frozenset({'nan', 'tomato sauce'}), items_add=frozenset({'spaghetti'}), confidence=0.4433962264150943, lift=2.546642491837383)]),\n",
       " RelationRecord(items=frozenset({'olive oil', 'pancakes', 'spaghetti'}), support=0.005065991201173177, ordered_statistics=[OrderedStatistic(items_base=frozenset({'olive oil', 'pancakes'}), items_add=frozenset({'spaghetti'}), confidence=0.4691358024691358, lift=2.6944775301079535)]),\n",
       " RelationRecord(items=frozenset({'olive oil', 'spaghetti', 'shrimp'}), support=0.0035995200639914677, ordered_statistics=[OrderedStatistic(items_base=frozenset({'olive oil', 'shrimp'}), items_add=frozenset({'spaghetti'}), confidence=0.4426229508196721, lift=2.5422011899681167)]),\n",
       " RelationRecord(items=frozenset({'olive oil', 'tomatoes', 'spaghetti'}), support=0.004399413411545127, ordered_statistics=[OrderedStatistic(items_base=frozenset({'olive oil', 'tomatoes'}), items_add=frozenset({'spaghetti'}), confidence=0.6111111111111112, lift=3.5099115194827295)]),\n",
       " RelationRecord(items=frozenset({'tomatoes', 'spaghetti', 'whole wheat rice'}), support=0.0030662578322890282, ordered_statistics=[OrderedStatistic(items_base=frozenset({'tomatoes', 'whole wheat rice'}), items_add=frozenset({'spaghetti'}), confidence=0.5111111111111112, lift=2.9355623617491924)])]"
      ]
     },
     "execution_count": 27,
     "metadata": {
      "tags": []
     },
     "output_type": "execute_result"
    }
   ],
   "source": [
    "results"
   ]
  },
  {
   "cell_type": "code",
   "execution_count": null,
   "metadata": {
    "id": "PoHeYEpRKv6B"
   },
   "outputs": [],
   "source": []
  },
  {
   "cell_type": "markdown",
   "metadata": {
    "id": "MFkQP-fcjDBC"
   },
   "source": [
    "### Putting the results well organised into a Pandas DataFrame"
   ]
  },
  {
   "cell_type": "code",
   "execution_count": 28,
   "metadata": {
    "id": "gyq7Poi0mMUe"
   },
   "outputs": [],
   "source": [
    "def inspect(results):\n",
    "    lhs         = [tuple(result[2][0][0])[0] for result in results]\n",
    "    rhs         = [tuple(result[2][0][1])[0] for result in results]\n",
    "    supports    = [result[1] for result in results]\n",
    "    confidences = [result[2][0][2] for result in results]\n",
    "    lifts       = [result[2][0][3] for result in results]\n",
    "    return list(zip(lhs, rhs, supports, confidences, lifts))\n",
    "resultsinDataFrame = pd.DataFrame(inspect(results), columns = ['Left Hand Side', 'Right Hand Side', 'Support', 'Confidence', 'Lift'])"
   ]
  },
  {
   "cell_type": "markdown",
   "metadata": {
    "id": "Pfn-G1eAjjLz"
   },
   "source": [
    "### Displaying the results non sorted"
   ]
  },
  {
   "cell_type": "code",
   "execution_count": 29,
   "metadata": {
    "colab": {
     "base_uri": "https://localhost:8080/",
     "height": 419
    },
    "id": "CmDCcs_6ip9V",
    "outputId": "99bb7217-2346-4c33-88c4-e1370b4c4c7b"
   },
   "outputs": [
    {
     "data": {
      "text/html": [
       "<div>\n",
       "<style scoped>\n",
       "    .dataframe tbody tr th:only-of-type {\n",
       "        vertical-align: middle;\n",
       "    }\n",
       "\n",
       "    .dataframe tbody tr th {\n",
       "        vertical-align: top;\n",
       "    }\n",
       "\n",
       "    .dataframe thead th {\n",
       "        text-align: right;\n",
       "    }\n",
       "</style>\n",
       "<table border=\"1\" class=\"dataframe\">\n",
       "  <thead>\n",
       "    <tr style=\"text-align: right;\">\n",
       "      <th></th>\n",
       "      <th>Left Hand Side</th>\n",
       "      <th>Right Hand Side</th>\n",
       "      <th>Support</th>\n",
       "      <th>Confidence</th>\n",
       "      <th>Lift</th>\n",
       "    </tr>\n",
       "  </thead>\n",
       "  <tbody>\n",
       "    <tr>\n",
       "      <th>0</th>\n",
       "      <td>cider</td>\n",
       "      <td>eggs</td>\n",
       "      <td>0.004266</td>\n",
       "      <td>0.405063</td>\n",
       "      <td>2.253991</td>\n",
       "    </tr>\n",
       "    <tr>\n",
       "      <th>1</th>\n",
       "      <td>extra dark chocolate</td>\n",
       "      <td>mineral water</td>\n",
       "      <td>0.005733</td>\n",
       "      <td>0.477778</td>\n",
       "      <td>2.004369</td>\n",
       "    </tr>\n",
       "    <tr>\n",
       "      <th>2</th>\n",
       "      <td>nonfat milk</td>\n",
       "      <td>mineral water</td>\n",
       "      <td>0.005066</td>\n",
       "      <td>0.487179</td>\n",
       "      <td>2.043811</td>\n",
       "    </tr>\n",
       "    <tr>\n",
       "      <th>3</th>\n",
       "      <td>strong cheese</td>\n",
       "      <td>spaghetti</td>\n",
       "      <td>0.003733</td>\n",
       "      <td>0.482759</td>\n",
       "      <td>2.772720</td>\n",
       "    </tr>\n",
       "    <tr>\n",
       "      <th>4</th>\n",
       "      <td>tomato sauce</td>\n",
       "      <td>spaghetti</td>\n",
       "      <td>0.006266</td>\n",
       "      <td>0.443396</td>\n",
       "      <td>2.546642</td>\n",
       "    </tr>\n",
       "    <tr>\n",
       "      <th>...</th>\n",
       "      <td>...</td>\n",
       "      <td>...</td>\n",
       "      <td>...</td>\n",
       "      <td>...</td>\n",
       "      <td>...</td>\n",
       "    </tr>\n",
       "    <tr>\n",
       "      <th>118</th>\n",
       "      <td>tomato sauce</td>\n",
       "      <td>nan</td>\n",
       "      <td>0.006266</td>\n",
       "      <td>0.443396</td>\n",
       "      <td>2.546642</td>\n",
       "    </tr>\n",
       "    <tr>\n",
       "      <th>119</th>\n",
       "      <td>olive oil</td>\n",
       "      <td>spaghetti</td>\n",
       "      <td>0.005066</td>\n",
       "      <td>0.469136</td>\n",
       "      <td>2.694478</td>\n",
       "    </tr>\n",
       "    <tr>\n",
       "      <th>120</th>\n",
       "      <td>olive oil</td>\n",
       "      <td>spaghetti</td>\n",
       "      <td>0.003600</td>\n",
       "      <td>0.442623</td>\n",
       "      <td>2.542201</td>\n",
       "    </tr>\n",
       "    <tr>\n",
       "      <th>121</th>\n",
       "      <td>olive oil</td>\n",
       "      <td>spaghetti</td>\n",
       "      <td>0.004399</td>\n",
       "      <td>0.611111</td>\n",
       "      <td>3.509912</td>\n",
       "    </tr>\n",
       "    <tr>\n",
       "      <th>122</th>\n",
       "      <td>tomatoes</td>\n",
       "      <td>spaghetti</td>\n",
       "      <td>0.003066</td>\n",
       "      <td>0.511111</td>\n",
       "      <td>2.935562</td>\n",
       "    </tr>\n",
       "  </tbody>\n",
       "</table>\n",
       "<p>123 rows × 5 columns</p>\n",
       "</div>"
      ],
      "text/plain": [
       "           Left Hand Side Right Hand Side   Support  Confidence      Lift\n",
       "0                   cider            eggs  0.004266    0.405063  2.253991\n",
       "1    extra dark chocolate   mineral water  0.005733    0.477778  2.004369\n",
       "2             nonfat milk   mineral water  0.005066    0.487179  2.043811\n",
       "3           strong cheese       spaghetti  0.003733    0.482759  2.772720\n",
       "4            tomato sauce       spaghetti  0.006266    0.443396  2.546642\n",
       "..                    ...             ...       ...         ...       ...\n",
       "118          tomato sauce             nan  0.006266    0.443396  2.546642\n",
       "119             olive oil       spaghetti  0.005066    0.469136  2.694478\n",
       "120             olive oil       spaghetti  0.003600    0.442623  2.542201\n",
       "121             olive oil       spaghetti  0.004399    0.611111  3.509912\n",
       "122              tomatoes       spaghetti  0.003066    0.511111  2.935562\n",
       "\n",
       "[123 rows x 5 columns]"
      ]
     },
     "execution_count": 29,
     "metadata": {
      "tags": []
     },
     "output_type": "execute_result"
    }
   ],
   "source": [
    "resultsinDataFrame"
   ]
  },
  {
   "cell_type": "markdown",
   "metadata": {
    "id": "IjrrlYW4jpTR"
   },
   "source": [
    "### Displaying the results sorted by descending lifts"
   ]
  },
  {
   "cell_type": "code",
   "execution_count": 12,
   "metadata": {
    "colab": {
     "base_uri": "https://localhost:8080/",
     "height": 204
    },
    "id": "nI7DJXng-nxQ",
    "outputId": "faac243d-8e7e-4a32-c83b-70b8c38156fc"
   },
   "outputs": [
    {
     "data": {
      "text/html": [
       "<div>\n",
       "<style scoped>\n",
       "    .dataframe tbody tr th:only-of-type {\n",
       "        vertical-align: middle;\n",
       "    }\n",
       "\n",
       "    .dataframe tbody tr th {\n",
       "        vertical-align: top;\n",
       "    }\n",
       "\n",
       "    .dataframe thead th {\n",
       "        text-align: right;\n",
       "    }\n",
       "</style>\n",
       "<table border=\"1\" class=\"dataframe\">\n",
       "  <thead>\n",
       "    <tr style=\"text-align: right;\">\n",
       "      <th></th>\n",
       "      <th>Left Hand Side</th>\n",
       "      <th>Right Hand Side</th>\n",
       "      <th>Support</th>\n",
       "      <th>Confidence</th>\n",
       "      <th>Lift</th>\n",
       "    </tr>\n",
       "  </thead>\n",
       "  <tbody>\n",
       "    <tr>\n",
       "      <th>3</th>\n",
       "      <td>strong cheese</td>\n",
       "      <td>spaghetti</td>\n",
       "      <td>0.003733</td>\n",
       "      <td>0.482759</td>\n",
       "      <td>2.772720</td>\n",
       "    </tr>\n",
       "    <tr>\n",
       "      <th>4</th>\n",
       "      <td>tomato sauce</td>\n",
       "      <td>spaghetti</td>\n",
       "      <td>0.006266</td>\n",
       "      <td>0.443396</td>\n",
       "      <td>2.546642</td>\n",
       "    </tr>\n",
       "    <tr>\n",
       "      <th>0</th>\n",
       "      <td>cider</td>\n",
       "      <td>eggs</td>\n",
       "      <td>0.004266</td>\n",
       "      <td>0.405063</td>\n",
       "      <td>2.253991</td>\n",
       "    </tr>\n",
       "    <tr>\n",
       "      <th>2</th>\n",
       "      <td>nonfat milk</td>\n",
       "      <td>mineral water</td>\n",
       "      <td>0.005066</td>\n",
       "      <td>0.487179</td>\n",
       "      <td>2.043811</td>\n",
       "    </tr>\n",
       "    <tr>\n",
       "      <th>1</th>\n",
       "      <td>extra dark chocolate</td>\n",
       "      <td>mineral water</td>\n",
       "      <td>0.005733</td>\n",
       "      <td>0.477778</td>\n",
       "      <td>2.004369</td>\n",
       "    </tr>\n",
       "  </tbody>\n",
       "</table>\n",
       "</div>"
      ],
      "text/plain": [
       "         Left Hand Side Right Hand Side   Support  Confidence      Lift\n",
       "3         strong cheese       spaghetti  0.003733    0.482759  2.772720\n",
       "4          tomato sauce       spaghetti  0.006266    0.443396  2.546642\n",
       "0                 cider            eggs  0.004266    0.405063  2.253991\n",
       "2           nonfat milk   mineral water  0.005066    0.487179  2.043811\n",
       "1  extra dark chocolate   mineral water  0.005733    0.477778  2.004369"
      ]
     },
     "execution_count": 12,
     "metadata": {
      "tags": []
     },
     "output_type": "execute_result"
    }
   ],
   "source": [
    "resultsinDataFrame.nlargest(n = 10, columns = 'Lift')"
   ]
  }
 ],
 "metadata": {
  "colab": {
   "collapsed_sections": [],
   "name": "Expt 3: apriori.ipynb",
   "provenance": [],
   "toc_visible": true
  },
  "kernelspec": {
   "display_name": "Python 3",
   "language": "python",
   "name": "python3"
  },
  "language_info": {
   "codemirror_mode": {
    "name": "ipython",
    "version": 3
   },
   "file_extension": ".py",
   "mimetype": "text/x-python",
   "name": "python",
   "nbconvert_exporter": "python",
   "pygments_lexer": "ipython3",
   "version": "3.7.9"
  }
 },
 "nbformat": 4,
 "nbformat_minor": 1
}
